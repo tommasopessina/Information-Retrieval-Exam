{
 "cells": [
  {
   "cell_type": "markdown",
   "id": "212d075a-3e50-4259-9c08-6db9a6ad454d",
   "metadata": {},
   "source": [
    "Import and cleaning\n"
   ]
  },
  {
   "cell_type": "code",
   "execution_count": 1,
   "id": "e27a7b31-29e3-4884-ae59-cdf43f6f0eae",
   "metadata": {},
   "outputs": [
    {
     "name": "stdout",
     "output_type": "stream",
     "text": [
      "Requirement already satisfied: json-lines in c:\\users\\tompe\\anaconda3\\lib\\site-packages (0.5.0)\n",
      "Requirement already satisfied: six in c:\\users\\tompe\\anaconda3\\lib\\site-packages (from json-lines) (1.15.0)\n"
     ]
    }
   ],
   "source": [
    "!python -m pip install json-lines"
   ]
  },
  {
   "cell_type": "code",
   "execution_count": 2,
   "id": "f854950d-6571-4644-af96-c1a690d8e3ae",
   "metadata": {},
   "outputs": [],
   "source": [
    "import json_lines\n",
    "\n",
    "with open('Illinois-20200302-xml/data/data.jsonl/data.jsonl', 'rb') as f: # opening file in binary(rb) mode \n",
    "    df = list(json_lines.reader(f))\n",
    "    for item in json_lines.reader(f):\n",
    "        print(item) #or use print(item['X']) for printing specific data\n",
    "        break"
   ]
  },
  {
   "cell_type": "code",
   "execution_count": 3,
   "id": "8b1279f1-26bd-4eac-b23a-79b8292193b0",
   "metadata": {},
   "outputs": [],
   "source": [
    "import json\n",
    "\n",
    "tot = len(df)\n",
    "json_list = []\n",
    "\n",
    "for n in range(0,tot):\n",
    "    json_list.append(json.dumps(df[n]['casebody']))\n"
   ]
  },
  {
   "cell_type": "code",
   "execution_count": 4,
   "id": "97d14888-b414-441d-907d-cf63a85b9083",
   "metadata": {},
   "outputs": [
    {
     "name": "stderr",
     "output_type": "stream",
     "text": [
      "[nltk_data] Downloading package stopwords to\n",
      "[nltk_data]     C:\\Users\\tompe\\AppData\\Roaming\\nltk_data...\n",
      "[nltk_data]   Package stopwords is already up-to-date!\n",
      "[nltk_data] Downloading package punkt to\n",
      "[nltk_data]     C:\\Users\\tompe\\AppData\\Roaming\\nltk_data...\n",
      "[nltk_data]   Package punkt is already up-to-date!\n"
     ]
    }
   ],
   "source": [
    "import re\n",
    "import nltk\n",
    "import json\n",
    "from nltk.corpus import stopwords\n",
    "nltk.download('stopwords')\n",
    "nltk.download('punkt')\n",
    "\n",
    "def clean_text(text):\n",
    "    # Convert words to lower case\n",
    "    text = text.lower() \n",
    "\n",
    "    text = re.sub('<.*?>', ' ', text)\n",
    "    text = re.sub('[a-zA-Z]+\\\\\\\\[a-zA-Z]+', ' ', text)\n",
    "    text = re.sub('\\\\\\\\[a-zA-Z]+', ' ', text)\n",
    "    text = re.sub('\\\\\\\\\"', '\"', text)\n",
    "    text = re.sub('[0-9]+[a-zA-Z]+', '', text)\n",
    "    text = re.sub('\\*', '', text)\n",
    "    text = re.sub('amp', '', text)\n",
    "    text = re.sub('[0-9]+', '', text)\n",
    "    \n",
    "    #Remove stopwords\n",
    "    stop_words = set(stopwords.words('english'))\n",
    "    text = \" \".join([i for i in text.split() if i not in stop_words])\n",
    "    \n",
    "    #Remove punctuation\n",
    "    words = nltk.word_tokenize(text)\n",
    "    text = [word for word in words if word.isalnum()]\n",
    "\n",
    "    return text"
   ]
  },
  {
   "cell_type": "code",
   "execution_count": null,
   "id": "5783bc5d-2e06-42fb-9b8f-306248e8574a",
   "metadata": {},
   "outputs": [],
   "source": []
  },
  {
   "cell_type": "markdown",
   "id": "b1e33b37-6515-4ea1-ae44-1d43a716b150",
   "metadata": {},
   "source": [
    "Topic Model"
   ]
  },
  {
   "cell_type": "code",
   "execution_count": 5,
   "id": "6a25727a-09e3-4093-9be5-982674a22203",
   "metadata": {},
   "outputs": [],
   "source": [
    "# for topic model\n",
    "\n",
    "texts = []\n",
    "\n",
    "for sentence in json_list:\n",
    "    texts.append(clean_text(sentence))"
   ]
  },
  {
   "cell_type": "code",
   "execution_count": 6,
   "id": "6f23e452-e10e-46d0-911a-ebcd7a74c106",
   "metadata": {},
   "outputs": [
    {
     "data": {
      "text/html": [
       "<style> .jp-icon-warn0 path {fill: var(--jp-warn-color0);} .bp3-button-text path { fill: var(--jp-inverse-layout-color3);} .jp-icon-brand0 path { fill: var(--jp-brand-color0);} text.terms { fill: #616161;} </style>"
      ],
      "text/plain": [
       "<IPython.core.display.HTML object>"
      ]
     },
     "metadata": {},
     "output_type": "display_data"
    }
   ],
   "source": [
    "# Necessary because pyLDAvis make some trouble\n",
    "\n",
    "from IPython.display import HTML\n",
    "css_str = '<style> \\\n",
    ".jp-icon-warn0 path {fill: var(--jp-warn-color0);} \\\n",
    ".bp3-button-text path { fill: var(--jp-inverse-layout-color3);} \\\n",
    ".jp-icon-brand0 path { fill: var(--jp-brand-color0);} \\\n",
    "text.terms { fill: #616161;} \\\n",
    "</style>'\n",
    "display(HTML(css_str))"
   ]
  },
  {
   "cell_type": "markdown",
   "id": "2a828e29-db9c-487a-a1ec-ee249c599d33",
   "metadata": {},
   "source": [
    "Topic model preparation"
   ]
  },
  {
   "cell_type": "code",
   "execution_count": 16,
   "id": "2bacb359-4ca2-435e-9243-e221b3b95b3a",
   "metadata": {},
   "outputs": [
    {
     "name": "stderr",
     "output_type": "stream",
     "text": [
      "C:\\Users\\tompe\\anaconda3\\lib\\site-packages\\ipykernel\\ipkernel.py:287: DeprecationWarning: `should_run_async` will not call `transform_cell` automatically in the future. Please pass the result to `transformed_cell` argument and any exception that happen during thetransform in `preprocessing_exc_tuple` in IPython 7.17 and above.\n",
      "  and should_run_async(code)\n"
     ]
    }
   ],
   "source": [
    "# Set training parameters.\n",
    "num_topics = 2\n",
    "chunksize = 500 #2000\n",
    "passes = 50 #20\n",
    "iterations = 600\n",
    "eval_every = None  # Don't evaluate model perplexity, takes too much time."
   ]
  },
  {
   "cell_type": "code",
   "execution_count": 8,
   "id": "6df528c7-b112-4f2e-b634-ac8db03cc036",
   "metadata": {},
   "outputs": [
    {
     "name": "stderr",
     "output_type": "stream",
     "text": [
      "C:\\Users\\tompe\\anaconda3\\lib\\site-packages\\gensim\\utils.py:1197: UserWarning: detected Windows; aliasing chunkize to chunkize_serial\n",
      "  warnings.warn(\"detected Windows; aliasing chunkize to chunkize_serial\")\n"
     ]
    }
   ],
   "source": [
    "# Remove rare and common tokens.\n",
    "import gensim\n",
    "from gensim.models import Word2Vec\n",
    "from gensim.corpora import Dictionary\n",
    "import gensim.corpora as corpora\n"
   ]
  },
  {
   "cell_type": "code",
   "execution_count": 9,
   "id": "be7b41fc-dc65-4d36-ba07-26e33d7fecd7",
   "metadata": {},
   "outputs": [],
   "source": [
    "# Create a dictionary representation of the documents.\n",
    "id2word = corpora.Dictionary(texts)\n",
    "\n",
    "corpus = [id2word.doc2bow(text) for text in texts]\n"
   ]
  },
  {
   "cell_type": "markdown",
   "id": "a1a1895c-d0ce-4313-8736-bad8c584f55f",
   "metadata": {},
   "source": [
    "LDA"
   ]
  },
  {
   "cell_type": "code",
   "execution_count": 32,
   "id": "d5a0fca4-8609-4ff8-9b46-174ad6bb61c0",
   "metadata": {},
   "outputs": [],
   "source": [
    "\n",
    "# Build LDA model\n",
    "lda_model = gensim.models.ldamodel.LdaModel(corpus=corpus,\n",
    "                                           id2word=id2word,\n",
    "                                           num_topics=num_topics, \n",
    "                                           random_state=100,\n",
    "                                           update_every=1,\n",
    "                                           chunksize=chunksize,\n",
    "                                           passes=passes,\n",
    "                                           alpha='auto',\n",
    "                                           per_word_topics=True,\n",
    "                                           eval_every=eval_every,\n",
    "                                           iterations=iterations)"
   ]
  },
  {
   "cell_type": "code",
   "execution_count": 18,
   "id": "1523a006-c401-4fce-aeb1-224d80164631",
   "metadata": {},
   "outputs": [
    {
     "name": "stdout",
     "output_type": "stream",
     "text": [
      "Topic 0\n",
      "[('defendant', 0.02), ('court', 0.02), ('trial', 0.01), ('evidence', 0.01), ('app', 0.01), ('state', 0.01), ('case', 0.01), ('people', 0.0), ('would', 0.0), ('plaintiff', 0.0)] \n",
      "\n",
      "Topic 1\n",
      "[('court', 0.01), ('said', 0.01), ('upon', 0.01), ('property', 0.01), ('judgment', 0.01), ('case', 0.0), ('plaintiff', 0.0), ('made', 0.0), ('act', 0.0), ('may', 0.0)] \n",
      "\n"
     ]
    },
    {
     "name": "stderr",
     "output_type": "stream",
     "text": [
      "C:\\Users\\tompe\\anaconda3\\lib\\site-packages\\ipykernel\\ipkernel.py:287: DeprecationWarning: `should_run_async` will not call `transform_cell` automatically in the future. Please pass the result to `transformed_cell` argument and any exception that happen during thetransform in `preprocessing_exc_tuple` in IPython 7.17 and above.\n",
      "  and should_run_async(code)\n"
     ]
    }
   ],
   "source": [
    "import re\n",
    "import numpy as np\n",
    "import pandas as pd\n",
    "from pprint import pprint\n",
    "\n",
    "# Gensim\n",
    "import gensim\n",
    "import gensim.corpora as corpora\n",
    "from gensim.utils import simple_preprocess\n",
    "from gensim.models import CoherenceModel\n",
    "\n",
    "# Enable logging for gensim - optional\n",
    "import logging\n",
    "logging.basicConfig(format='%(asctime)s : %(levelname)s : %(message)s', level=logging.ERROR)\n",
    "\n",
    "import warnings\n",
    "warnings.filterwarnings(\"ignore\",category=DeprecationWarning)\n",
    "\n",
    "# Print the Keyword in the 10 topics\n",
    "#pprint(lda_model.print_topics())\n",
    "#doc_lda = lda_model[corpus]\n",
    "\n",
    "lda_topics = lda_model.get_topics()\n",
    "\n",
    "for topicno in range(num_topics):\n",
    "    print('Topic {}'.format(topicno))\n",
    "    print([(x, round(y, 2)) for x, y in lda_model.show_topic(topicno, topn=10)], '\\n')"
   ]
  },
  {
   "cell_type": "code",
   "execution_count": 19,
   "id": "dfddc5dd-dd58-477b-892a-dabd4cb21a20",
   "metadata": {},
   "outputs": [
    {
     "data": {
      "text/plain": [
       "[(0, 0.01597645), (1, 0.013337535)]"
      ]
     },
     "execution_count": 19,
     "metadata": {},
     "output_type": "execute_result"
    }
   ],
   "source": [
    "tid = id2word.token2id['court']\n",
    "lda_model.get_term_topics(tid)"
   ]
  },
  {
   "cell_type": "code",
   "execution_count": 13,
   "id": "020a2dcd-ca7b-4afc-9914-5abb26cd89bd",
   "metadata": {},
   "outputs": [
    {
     "name": "stdout",
     "output_type": "stream",
     "text": [
      "Requirement already satisfied: pyLDAvis in c:\\users\\tompe\\anaconda3\\lib\\site-packages (3.3.1)\n",
      "Requirement already satisfied: future in c:\\users\\tompe\\anaconda3\\lib\\site-packages (from pyLDAvis) (0.18.2)\n",
      "Requirement already satisfied: setuptools in c:\\users\\tompe\\anaconda3\\lib\\site-packages (from pyLDAvis) (52.0.0.post20210125)\n",
      "Requirement already satisfied: gensim in c:\\users\\tompe\\anaconda3\\lib\\site-packages (from pyLDAvis) (3.4.0)\n",
      "Requirement already satisfied: pandas>=1.2.0 in c:\\users\\tompe\\anaconda3\\lib\\site-packages (from pyLDAvis) (1.2.4)\n",
      "Requirement already satisfied: funcy in c:\\users\\tompe\\anaconda3\\lib\\site-packages (from pyLDAvis) (1.16)\n",
      "Requirement already satisfied: joblib in c:\\users\\tompe\\anaconda3\\lib\\site-packages (from pyLDAvis) (1.0.1)\n",
      "Requirement already satisfied: scipy in c:\\users\\tompe\\anaconda3\\lib\\site-packages (from pyLDAvis) (1.6.2)\n",
      "Requirement already satisfied: scikit-learn in c:\\users\\tompe\\anaconda3\\lib\\site-packages (from pyLDAvis) (0.24.1)\n",
      "Requirement already satisfied: numpy>=1.20.0 in c:\\users\\tompe\\anaconda3\\lib\\site-packages (from pyLDAvis) (1.22.0)\n",
      "Requirement already satisfied: sklearn in c:\\users\\tompe\\anaconda3\\lib\\site-packages (from pyLDAvis) (0.0)\n",
      "Requirement already satisfied: jinja2 in c:\\users\\tompe\\anaconda3\\lib\\site-packages (from pyLDAvis) (2.11.3)\n",
      "Requirement already satisfied: numexpr in c:\\users\\tompe\\anaconda3\\lib\\site-packages (from pyLDAvis) (2.7.3)\n",
      "Requirement already satisfied: pytz>=2017.3 in c:\\users\\tompe\\anaconda3\\lib\\site-packages (from pandas>=1.2.0->pyLDAvis) (2021.1)\n",
      "Requirement already satisfied: python-dateutil>=2.7.3 in c:\\users\\tompe\\anaconda3\\lib\\site-packages (from pandas>=1.2.0->pyLDAvis) (2.8.1)\n",
      "Requirement already satisfied: six>=1.5 in c:\\users\\tompe\\anaconda3\\lib\\site-packages (from python-dateutil>=2.7.3->pandas>=1.2.0->pyLDAvis) (1.15.0)\n",
      "Requirement already satisfied: smart-open>=1.2.1 in c:\\users\\tompe\\anaconda3\\lib\\site-packages (from gensim->pyLDAvis) (5.2.1)\n",
      "Requirement already satisfied: MarkupSafe>=0.23 in c:\\users\\tompe\\anaconda3\\lib\\site-packages (from jinja2->pyLDAvis) (1.1.1)\n",
      "Requirement already satisfied: threadpoolctl>=2.0.0 in c:\\users\\tompe\\anaconda3\\lib\\site-packages (from scikit-learn->pyLDAvis) (2.1.0)\n"
     ]
    }
   ],
   "source": [
    "!pip install pyLDAvis"
   ]
  },
  {
   "cell_type": "code",
   "execution_count": 20,
   "id": "4f3809f6-3882-40df-8984-bb40a94b49bc",
   "metadata": {},
   "outputs": [
    {
     "data": {
      "text/html": [
       "\n",
       "<link rel=\"stylesheet\" type=\"text/css\" href=\"https://cdn.jsdelivr.net/gh/bmabey/pyLDAvis@3.3.1/pyLDAvis/js/ldavis.v1.0.0.css\">\n",
       "\n",
       "\n",
       "<div id=\"ldavis_el599620459601640645947127070\"></div>\n",
       "<script type=\"text/javascript\">\n",
       "\n",
       "var ldavis_el599620459601640645947127070_data = {\"mdsDat\": {\"x\": [0.1084225420771386, -0.1084225420771386], \"y\": [0.0, 0.0], \"topics\": [1, 2], \"cluster\": [1, 1], \"Freq\": [52.305629765904186, 47.694370234095814]}, \"tinfo\": {\"Term\": [\"defendant\", \"trial\", \"property\", \"said\", \"contract\", \"app\", \"testified\", \"company\", \"ilcs\", \"people\", \"land\", \"police\", \"estate\", \"jury\", \"city\", \"paid\", \"testimony\", \"bank\", \"bill\", \"deed\", \"car\", \"pay\", \"title\", \"appellee\", \"trust\", \"interest\", \"payment\", \"insurance\", \"upon\", \"evidence\", \"contract\", \"deed\", \"land\", \"estate\", \"decree\", \"tax\", \"title\", \"payment\", \"trust\", \"corporation\", \"taxes\", \"mortgage\", \"lien\", \"lands\", \"equity\", \"lease\", \"stock\", \"trustee\", \"plat\", \"bonds\", \"appellees\", \"contracts\", \"lots\", \"commissioners\", \"acres\", \"tract\", \"injunction\", \"easement\", \"purchaser\", \"assets\", \"sale\", \"bank\", \"ordinance\", \"paid\", \"bill\", \"suit\", \"property\", \"settlement\", \"insured\", \"company\", \"fund\", \"pay\", \"appellants\", \"insurance\", \"fees\", \"sum\", \"appellee\", \"city\", \"policy\", \"said\", \"interest\", \"agreement\", \"amount\", \"shall\", \"appellant\", \"county\", \"upon\", \"judgment\", \"parties\", \"action\", \"made\", \"court\", \"filed\", \"act\", \"law\", \"may\", \"case\", \"plaintiff\", \"section\", \"time\", \"order\", \"one\", \"would\", \"part\", \"opinion\", \"state\", \"evidence\", \"police\", \"offense\", \"murder\", \"conviction\", \"vehicle\", \"ilcs\", \"crime\", \"victim\", \"criminal\", \"sentencing\", \"sexual\", \"aggravated\", \"sentenced\", \"gun\", \"convicted\", \"robbery\", \"felony\", \"car\", \"armed\", \"convictions\", \"detective\", \"probation\", \"postconviction\", \"driving\", \"prosecutor\", \"guilt\", \"battery\", \"offenses\", \"jurors\", \"shooting\", \"medical\", \"sentence\", \"treatment\", \"factors\", \"arrest\", \"indictment\", \"truck\", \"hospital\", \"expert\", \"guilty\", \"search\", \"testified\", \"trial\", \"defendant\", \"argues\", \"accident\", \"negligence\", \"injuries\", \"app\", \"regarding\", \"people\", \"jury\", \"respondent\", \"testimony\", \"officer\", \"a\", \"told\", \"evidence\", \"see\", \"counsel\", \"court\", \"motion\", \"state\", \"hearing\", \"code\", \"west\", \"whether\", \"also\", \"found\", \"would\", \"stated\", \"case\", \"plaintiff\", \"however\", \"could\", \"illinois\", \"time\", \"section\", \"one\", \"may\"], \"Freq\": [1719665.0, 1130934.0, 566451.0, 824297.0, 347374.0, 631024.0, 378792.0, 317098.0, 237105.0, 493627.0, 254136.0, 215544.0, 219694.0, 363644.0, 331739.0, 210634.0, 310064.0, 190847.0, 189455.0, 176312.0, 152238.0, 204792.0, 170701.0, 254335.0, 169359.0, 279084.0, 168420.0, 205671.0, 690046.0, 863485.0, 347374.15532587597, 176311.97752320915, 254136.20092714592, 219694.29760289783, 150215.01526637646, 152405.39858070321, 170700.85519025868, 168419.69114483736, 169358.52008141868, 136040.04518239072, 89259.45622785571, 86040.85286165499, 67392.64199947425, 65724.82736435671, 63197.11622059887, 68636.44378379823, 82490.03005123847, 53841.37874559557, 57962.09031016159, 52764.22396398308, 76505.74805467614, 46590.32410916519, 77967.78703160606, 46521.197755486515, 39017.71125096723, 52109.366110817624, 44108.4702868719, 46300.87613917762, 37156.740019377816, 43132.442404207424, 161957.392564352, 189933.49795172276, 111626.05956304914, 209116.31707941304, 188248.7997659102, 151380.3347007519, 554891.2102744097, 72015.7081154097, 66562.61379161365, 312102.060640495, 61083.44307412503, 200813.9758939912, 92065.90067239129, 200203.19755421978, 106285.44535556283, 106341.1312551894, 241020.1855959495, 308932.00381176424, 191297.86437829738, 732075.4389471542, 260192.922976607, 241935.19415477588, 234322.07990322454, 292467.13816930196, 277123.6868530432, 390998.9099162444, 555937.5065836589, 527883.6952308767, 255050.1292987902, 297427.69526794076, 407369.01163737813, 1289120.1373924525, 367670.98499679257, 405630.54038340726, 365937.46460073965, 401843.22409181256, 467630.359128261, 442483.6465370703, 375360.2974524803, 342220.5372723387, 306927.08638621186, 326949.7735518746, 380710.9371472504, 245106.10613169248, 251651.16280305546, 267484.32147909334, 256686.72539915045, 215543.44349431354, 103794.67688750927, 82246.21253201296, 90853.734660554, 96864.64592698563, 237103.96845506315, 74729.89559446802, 64271.40144386859, 139970.3469199787, 53468.24895046098, 48851.47901344189, 46707.46147267285, 43156.46736882741, 40951.797962507706, 45702.552964607756, 38711.53925421239, 39514.028637613854, 152236.58267133945, 36268.60748677448, 32409.134290885984, 32382.16593622136, 32471.571392773585, 30341.722882931626, 37563.932393944815, 27551.834537401202, 29094.704521642867, 27515.083292809733, 29038.992835955632, 33437.64331552604, 26499.817335996715, 96153.60886593649, 110606.86172983702, 50093.38790521458, 50335.348988743506, 62801.75692937827, 36581.418854928306, 35814.08528939191, 75311.33373143643, 52651.16987699556, 134472.82448014338, 53179.3074233295, 355947.8080437474, 1022883.7039024432, 1516782.7565690912, 129860.72796353506, 85696.96151154769, 97983.59923104638, 64280.64568490067, 543322.6434961946, 100396.61289987213, 427562.78941959364, 319749.06331862404, 180208.63003652135, 272556.46387138806, 164893.77492051088, 232992.09721206094, 123209.15283165811, 606798.9170915569, 276657.0286175896, 269283.65370674717, 1408046.5147209978, 324821.083911531, 461562.34869714495, 194213.2140210291, 144823.14254270535, 238667.83548622174, 296123.84071435186, 326092.50050275796, 217935.88590534872, 422468.5046723697, 219625.3555987878, 448310.436768257, 393305.33531120734, 209454.74106749875, 236170.80284979142, 240829.51045076016, 262333.66708716983, 255125.82667667323, 236795.69712759377, 231080.88885359926], \"Total\": [1719665.0, 1130934.0, 566451.0, 824297.0, 347374.0, 631024.0, 378792.0, 317098.0, 237105.0, 493627.0, 254136.0, 215544.0, 219694.0, 363644.0, 331739.0, 210634.0, 310064.0, 190847.0, 189455.0, 176312.0, 152238.0, 204792.0, 170701.0, 254335.0, 169359.0, 279084.0, 168420.0, 205671.0, 690046.0, 863485.0, 347374.6059229585, 176312.33985278607, 254136.77956026795, 219694.80809007914, 150215.36943881924, 152405.83068955765, 170701.3474425959, 168420.18505630377, 169359.180492104, 136040.60398596176, 89259.82337951784, 86041.23460708668, 67393.00976980201, 65725.20115312275, 63197.485418589495, 68636.85573198815, 82490.54140729923, 53841.741982368716, 57962.5165583459, 52764.649004698935, 76506.40731491812, 46590.74861904267, 77968.53290856103, 46521.64896927779, 39018.09322774786, 52109.8820045817, 44108.92748133259, 46301.3587948588, 37157.128111817285, 43132.89642150475, 162333.98380913824, 190847.4188824194, 111627.32292964924, 210634.2412073402, 189455.4148911946, 152390.14515422762, 566451.2927147006, 72019.06093801014, 66563.35023535586, 317098.91758950247, 61086.009562395324, 204792.85921361647, 92638.30758312492, 205671.59063132457, 108033.8639183594, 108231.71529253185, 254335.98769624354, 331739.88314811315, 200616.45242407834, 824297.0032211088, 279084.5196136327, 259470.66140189377, 251079.70864886072, 329090.5382930904, 313602.6341682291, 464468.64924638084, 690046.1838909824, 678718.3338588136, 293385.8968240348, 363174.00459549995, 557075.5860999486, 2697166.65211345, 519434.43899892736, 607855.9566444925, 523803.8824004269, 632924.1129454118, 915940.795896518, 835788.9818482776, 630486.1241291536, 604554.2043595086, 484413.45672843803, 563745.4706794684, 803179.4418196201, 341205.1216496471, 419528.86792094936, 729046.6701762383, 863485.6424907073, 215544.18534584134, 103795.11986590194, 82246.60761235791, 90854.19796524478, 96865.20178804609, 237105.3592329565, 74730.34221687613, 64271.80617449975, 139971.2564702156, 53468.64058097316, 48851.878646391735, 46707.85377342428, 43156.872873485096, 40952.18868395829, 45703.012271470616, 38711.934870190744, 39514.449013041114, 152238.25832696556, 36269.02459788124, 32409.533350559155, 32382.568553892714, 32471.978072056125, 30342.125677916993, 37564.44885549675, 27552.227993247623, 29095.122351062382, 27515.485606373175, 29039.42055023435, 33438.14015973545, 26500.214067452333, 96279.90050890108, 111367.1351450407, 50094.745792066715, 50403.89985573509, 63135.90069875326, 36582.02658924412, 35814.64817223323, 76253.70685639729, 52934.682025903734, 137885.6649816215, 53541.121363554026, 378792.00742123957, 1130934.2426252353, 1719665.200901181, 135319.3350394928, 88185.48756426861, 101710.88637038658, 65548.83475185733, 631024.329158108, 105280.68908913549, 493627.6056995123, 363644.0194188242, 197035.33728757693, 310064.24784701946, 181366.63366682184, 266062.96732947, 133575.9082370113, 863485.6424907073, 348696.9565549727, 353081.74542769394, 2697166.65211345, 455865.3758962666, 729046.6701762383, 244635.4684027992, 169715.83955387093, 329898.72896296, 454575.6095506878, 532663.0189290881, 303412.6954007823, 803179.4418196201, 310315.0584193757, 915940.795896518, 835788.9818482776, 297164.33122415596, 399286.5498915843, 465620.7387840353, 604554.2043595086, 630486.1241291536, 563745.4706794684, 632924.1129454118], \"Category\": [\"Default\", \"Default\", \"Default\", \"Default\", \"Default\", \"Default\", \"Default\", \"Default\", \"Default\", \"Default\", \"Default\", \"Default\", \"Default\", \"Default\", \"Default\", \"Default\", \"Default\", \"Default\", \"Default\", \"Default\", \"Default\", \"Default\", \"Default\", \"Default\", \"Default\", \"Default\", \"Default\", \"Default\", \"Default\", \"Default\", \"Topic1\", \"Topic1\", \"Topic1\", \"Topic1\", \"Topic1\", \"Topic1\", \"Topic1\", \"Topic1\", \"Topic1\", \"Topic1\", \"Topic1\", \"Topic1\", \"Topic1\", \"Topic1\", \"Topic1\", \"Topic1\", \"Topic1\", \"Topic1\", \"Topic1\", \"Topic1\", \"Topic1\", \"Topic1\", \"Topic1\", \"Topic1\", \"Topic1\", \"Topic1\", \"Topic1\", \"Topic1\", \"Topic1\", \"Topic1\", \"Topic1\", \"Topic1\", \"Topic1\", \"Topic1\", \"Topic1\", \"Topic1\", \"Topic1\", \"Topic1\", \"Topic1\", \"Topic1\", \"Topic1\", \"Topic1\", \"Topic1\", \"Topic1\", \"Topic1\", \"Topic1\", \"Topic1\", \"Topic1\", \"Topic1\", \"Topic1\", \"Topic1\", \"Topic1\", \"Topic1\", \"Topic1\", \"Topic1\", \"Topic1\", \"Topic1\", \"Topic1\", \"Topic1\", \"Topic1\", \"Topic1\", \"Topic1\", \"Topic1\", \"Topic1\", \"Topic1\", \"Topic1\", \"Topic1\", \"Topic1\", \"Topic1\", \"Topic1\", \"Topic1\", \"Topic1\", \"Topic1\", \"Topic1\", \"Topic1\", \"Topic1\", \"Topic1\", \"Topic2\", \"Topic2\", \"Topic2\", \"Topic2\", \"Topic2\", \"Topic2\", \"Topic2\", \"Topic2\", \"Topic2\", \"Topic2\", \"Topic2\", \"Topic2\", \"Topic2\", \"Topic2\", \"Topic2\", \"Topic2\", \"Topic2\", \"Topic2\", \"Topic2\", \"Topic2\", \"Topic2\", \"Topic2\", \"Topic2\", \"Topic2\", \"Topic2\", \"Topic2\", \"Topic2\", \"Topic2\", \"Topic2\", \"Topic2\", \"Topic2\", \"Topic2\", \"Topic2\", \"Topic2\", \"Topic2\", \"Topic2\", \"Topic2\", \"Topic2\", \"Topic2\", \"Topic2\", \"Topic2\", \"Topic2\", \"Topic2\", \"Topic2\", \"Topic2\", \"Topic2\", \"Topic2\", \"Topic2\", \"Topic2\", \"Topic2\", \"Topic2\", \"Topic2\", \"Topic2\", \"Topic2\", \"Topic2\", \"Topic2\", \"Topic2\", \"Topic2\", \"Topic2\", \"Topic2\", \"Topic2\", \"Topic2\", \"Topic2\", \"Topic2\", \"Topic2\", \"Topic2\", \"Topic2\", \"Topic2\", \"Topic2\", \"Topic2\", \"Topic2\", \"Topic2\", \"Topic2\", \"Topic2\", \"Topic2\", \"Topic2\", \"Topic2\", \"Topic2\", \"Topic2\", \"Topic2\"], \"logprob\": [30.0, 29.0, 28.0, 27.0, 26.0, 25.0, 24.0, 23.0, 22.0, 21.0, 20.0, 19.0, 18.0, 17.0, 16.0, 15.0, 14.0, 13.0, 12.0, 11.0, 10.0, 9.0, 8.0, 7.0, 6.0, 5.0, 4.0, 3.0, 2.0, 1.0, -5.6285, -6.3066, -5.941, -6.0867, -6.4668, -6.4523, -6.339, -6.3524, -6.3469, -6.5659, -6.9873, -7.0241, -7.2684, -7.2934, -7.3326, -7.2501, -7.0662, -7.4928, -7.4191, -7.5131, -7.1415, -7.6375, -7.1226, -7.639, -7.8149, -7.5255, -7.6922, -7.6437, -7.8637, -7.7146, -6.3916, -6.2322, -6.7637, -6.136, -6.2411, -6.4591, -5.1601, -7.202, -7.2807, -5.7356, -7.3666, -6.1765, -6.9564, -6.1796, -6.8128, -6.8122, -5.994, -5.7458, -6.2251, -4.883, -5.9175, -5.9902, -6.0222, -5.8005, -5.8544, -5.5102, -5.1582, -5.21, -5.9374, -5.7837, -5.4692, -4.3172, -5.5717, -5.4734, -5.5764, -5.4828, -5.3312, -5.3865, -5.551, -5.6434, -5.7523, -5.6891, -5.5368, -5.9772, -5.9508, -5.8898, -5.931, -6.0134, -6.7442, -6.9769, -6.8773, -6.8133, -5.9181, -7.0727, -7.2235, -6.4452, -7.4075, -7.4978, -7.5427, -7.6218, -7.6742, -7.5644, -7.7305, -7.7099, -6.3612, -7.7956, -7.9082, -7.909, -7.9062, -7.9741, -7.7606, -8.0705, -8.016, -8.0719, -8.018, -7.8769, -8.1095, -6.8207, -6.6806, -7.4727, -7.4679, -7.2466, -7.7871, -7.8083, -7.065, -7.4229, -6.4852, -7.4129, -5.5118, -4.4562, -4.0623, -6.5201, -6.9358, -6.8018, -7.2233, -5.0889, -6.7775, -5.3285, -5.6191, -6.1925, -5.7788, -6.2813, -5.9356, -6.5727, -4.9784, -5.7638, -5.7908, -4.1366, -5.6033, -5.252, -6.1176, -6.4111, -5.9115, -5.6958, -5.5994, -6.0024, -5.3405, -5.9947, -5.2811, -5.412, -6.0421, -5.922, -5.9025, -5.817, -5.8448, -5.9194, -5.9438], \"loglift\": [30.0, 29.0, 28.0, 27.0, 26.0, 25.0, 24.0, 23.0, 22.0, 21.0, 20.0, 19.0, 18.0, 17.0, 16.0, 15.0, 14.0, 13.0, 12.0, 11.0, 10.0, 9.0, 8.0, 7.0, 6.0, 5.0, 4.0, 3.0, 2.0, 1.0, 0.6481, 0.6481, 0.6481, 0.6481, 0.6481, 0.6481, 0.6481, 0.6481, 0.6481, 0.6481, 0.6481, 0.6481, 0.6481, 0.6481, 0.6481, 0.6481, 0.6481, 0.6481, 0.6481, 0.6481, 0.6481, 0.6481, 0.6481, 0.6481, 0.6481, 0.6481, 0.6481, 0.6481, 0.6481, 0.6481, 0.6457, 0.6433, 0.6481, 0.6408, 0.6417, 0.6414, 0.6274, 0.648, 0.6481, 0.6322, 0.648, 0.6284, 0.6419, 0.6211, 0.6317, 0.6304, 0.5943, 0.5768, 0.6005, 0.5294, 0.578, 0.5781, 0.579, 0.5301, 0.5244, 0.4759, 0.432, 0.3967, 0.508, 0.4484, 0.3351, -0.0902, 0.3025, 0.2436, 0.2894, 0.1938, -0.0242, 0.0121, 0.1295, 0.079, 0.1917, 0.1033, -0.0985, 0.3173, 0.137, -0.3546, -0.5651, 0.7404, 0.7404, 0.7404, 0.7404, 0.7404, 0.7404, 0.7404, 0.7404, 0.7404, 0.7403, 0.7403, 0.7403, 0.7403, 0.7403, 0.7403, 0.7403, 0.7403, 0.7403, 0.7403, 0.7403, 0.7403, 0.7403, 0.7403, 0.7403, 0.7403, 0.7403, 0.7403, 0.7403, 0.7403, 0.7403, 0.739, 0.7335, 0.7403, 0.739, 0.7351, 0.7403, 0.7403, 0.7279, 0.735, 0.7153, 0.7336, 0.6782, 0.6399, 0.6148, 0.6992, 0.7117, 0.703, 0.7208, 0.5907, 0.6929, 0.5967, 0.6117, 0.6511, 0.6114, 0.6451, 0.6076, 0.6596, 0.3876, 0.5089, 0.4694, 0.0904, 0.4014, 0.2832, 0.5095, 0.5817, 0.4166, 0.3118, 0.2496, 0.4095, 0.0979, 0.3947, 0.0259, -0.0134, 0.3906, 0.2152, 0.0811, -0.0945, -0.1644, -0.127, -0.2672]}, \"token.table\": {\"Topic\": [1, 2, 1, 2, 1, 1, 2, 1, 2, 2, 1, 2, 1, 2, 1, 2, 1, 2, 1, 2, 1, 2, 1, 2, 1, 2, 1, 2, 2, 1, 2, 1, 1, 2, 2, 1, 2, 1, 1, 2, 1, 2, 1, 2, 1, 2, 1, 1, 2, 1, 1, 2, 2, 2, 1, 2, 1, 2, 1, 2, 1, 2, 1, 2, 2, 1, 2, 1, 1, 1, 2, 2, 1, 2, 1, 1, 1, 2, 1, 2, 1, 2, 1, 2, 1, 2, 2, 1, 2, 1, 2, 1, 2, 2, 1, 2, 2, 1, 2, 1, 2, 1, 2, 1, 2, 1, 2, 1, 2, 1, 1, 2, 1, 2, 1, 2, 1, 2, 1, 2, 2, 1, 2, 1, 2, 1, 1, 2, 1, 1, 1, 2, 1, 2, 1, 2, 1, 2, 1, 1, 2, 2, 1, 2, 2, 2, 1, 2, 1, 2, 1, 2, 1, 2, 1, 2, 1, 2, 1, 2, 1, 2, 1, 2, 1, 1, 2, 1, 2, 1, 1, 2, 1, 2, 2, 2, 1, 2, 2, 1, 1, 2, 1, 2, 2, 1, 2, 1, 2, 1, 2, 1, 2, 1, 2, 1, 2, 2, 2, 1, 2, 2, 1, 2, 2, 1, 2, 1, 2, 1, 2, 1, 2, 1, 2, 1, 1, 1, 2, 1, 2, 1, 2, 1, 1, 2, 1, 2, 1, 2, 1, 2, 1, 2, 1, 2, 1, 1, 2, 1, 2, 2, 1, 2, 1, 2, 1, 2], \"Freq\": [0.12429764401991224, 0.8757024787725619, 0.028224598726474627, 0.9717812121585763, 0.9999976106534137, 0.6673143457196312, 0.3326857256056673, 0.8189683078536216, 0.18103167949266447, 0.9999817209879003, 0.9324175561616471, 0.06757989479527345, 0.3878080374629878, 0.6121938043598476, 0.9332574155871088, 0.06674374480590285, 0.1389835477770075, 0.861017515322878, 0.8836788017901007, 0.11632236475549243, 0.993822128252814, 0.006174551488721239, 0.9476441072423185, 0.05235594113367651, 0.9999946760678953, 1.3070800670116008e-05, 0.04034161118517761, 0.9596633028243909, 0.9999993217936928, 0.005290175578450178, 0.9947113972390061, 0.9999792172198224, 0.9952086389861904, 0.004789166158768503, 0.9999823515245152, 0.9936321963038773, 0.006370892068158556, 0.9999877000091695, 1.3137302160305557e-05, 0.9999917344892185, 0.5105460987162235, 0.4894530323449525, 0.9312476904143298, 0.06875266182515904, 0.14667458302911382, 0.8533263623518801, 0.9999860501660588, 0.9842417702731765, 0.015758489615750822, 0.9999982557073885, 0.9999839320237416, 0.9999997314953653, 0.9999978210666187, 0.9999835434051646, 0.9999955602522772, 7.350746546988218e-06, 0.40851864417744554, 0.5914824831042418, 0.237333141928632, 0.7626675790724091, 0.8418200036416057, 0.1581807515301798, 0.4779534104760895, 0.5220467185061332, 0.9999954206435301, 7.1443239506304595e-06, 0.9999910233697454, 0.9999975406057275, 0.999998072439023, 0.11797761558103334, 0.8820222675932142, 0.9999824425943308, 2.662091499989282e-05, 0.9999880510559739, 0.999992250878416, 0.9999923190205072, 0.9999963217606909, 4.5517689229596205e-06, 0.29726840536640703, 0.7027320086639776, 0.005365102596838568, 0.9946409043174206, 0.0013689416929541214, 0.9986330451426914, 0.9838118914298852, 0.01618011183346135, 0.9999886367378938, 0.7078294629608863, 0.2921696918912098, 0.28171860075628075, 0.7182824031543081, 0.9999507323785449, 4.9111081596117325e-05, 0.9999957947912744, 0.024752391776584694, 0.9752500379058522, 0.9999953925793871, 0.2061107505350727, 0.7938873347679202, 0.012353497801411751, 0.9876372324014017, 0.2951565540813137, 0.7048456964439808, 4.2175343620871e-06, 0.9999942673882998, 0.48277703563428, 0.5172235253715837, 2.7335828362609658e-05, 0.9999719373326239, 0.9999789729339263, 0.019344356078947248, 0.9806581649138866, 0.9734110549029241, 0.026586073376568726, 0.999994738315385, 1.5023282278674112e-05, 0.9323089663311089, 0.06769275496238296, 0.7777659356846105, 0.22223504578465764, 0.9999958083872255, 0.12070870867105964, 0.8792912379282981, 0.9999969325169332, 3.9348889276487124e-06, 0.9999969394825848, 0.6986145240524505, 0.30138379134677323, 0.9999875324710168, 0.999999855032413, 0.9999931650815893, 1.2825687013667008e-05, 0.731263423069686, 0.26873731991755256, 0.6348991795082043, 0.36510064204163156, 0.0013086843602248144, 0.9986923489925145, 0.9999972733179882, 0.28746205991704754, 0.7125371155055958, 0.9999926123110052, 0.036643078563172636, 0.96335803861924, 0.9999988451682305, 0.9999855179536512, 0.09082707037647066, 0.9091749494723337, 0.5799603136605875, 0.42004062527472846, 0.5998419161167662, 0.400158398710319, 0.6336054371257137, 0.36639362002591636, 0.9999881486932185, 8.958380204371907e-06, 0.9927920493902712, 0.007206805461917939, 0.7183538125540723, 0.2816458309165577, 0.8693328573764822, 0.13066749429674504, 0.980571299073147, 0.019429388384336013, 0.9999989012225363, 0.13383570780321388, 0.86616509097806, 0.529420714570182, 0.47057930714788654, 0.9999910880621379, 4.639419979692316e-06, 0.9999945006828208, 0.9535509061620715, 0.04645182330460509, 0.9999958579725651, 1.0000006752882078, 0.9795917268379807, 0.02040775641026266, 0.9999917250522289, 0.9999965521604118, 0.04639027386936061, 0.9536126792920141, 0.08540092468510187, 0.9146024387340299, 1.0000016824219577, 0.8881204191441525, 0.11187957694814334, 0.9976777271136186, 0.0023223726243498844, 0.00676115835419198, 0.993236574910429, 0.5953501364022222, 0.40464966671929176, 0.20659773091149067, 0.7934023936810144, 0.006824275393366296, 0.9931745110974551, 0.9999797744037745, 0.9999880195014087, 0.9999574982237998, 4.1655638950669284e-05, 0.999982014071596, 0.8887128797957927, 0.11128548450512817, 0.9999919220481847, 0.3668955787636187, 0.6331035019862623, 0.29225136692347325, 0.7077484448182579, 0.9999934367348063, 1.2122601972782231e-05, 0.9933713223174288, 0.006627725165415531, 0.982530857175999, 0.01747177336041427, 0.9999945494896495, 0.9999907754744893, 0.06030750267282196, 0.9396924777353192, 0.12096847753471346, 0.8790307231244364, 0.5660716566557734, 0.433929659422232, 0.9999979646171451, 0.07761130084629667, 0.9223893861263013, 0.9999830741397261, 1.919021808401094e-05, 1.996217336146989e-05, 0.9999651501961112, 0.09554136388087554, 0.9044593058086042, 2.7921536327565847e-05, 0.9999819020354433, 0.9999989342644227, 5.904610527131258e-06, 0.9999862191983134, 0.8056533214417868, 0.1943478612457443, 1.032362480582173e-05, 0.9999979168159219, 0.9999874567940792, 0.2765424416359092, 0.7234583799405814, 0.3485712754290036, 0.6514295835025009, 0.47400491120326876, 0.5259957837602112], \"Term\": [\"a\", \"a\", \"accident\", \"accident\", \"acres\", \"act\", \"act\", \"action\", \"action\", \"aggravated\", \"agreement\", \"agreement\", \"also\", \"also\", \"amount\", \"amount\", \"app\", \"app\", \"appellant\", \"appellant\", \"appellants\", \"appellants\", \"appellee\", \"appellee\", \"appellees\", \"appellees\", \"argues\", \"argues\", \"armed\", \"arrest\", \"arrest\", \"assets\", \"bank\", \"bank\", \"battery\", \"bill\", \"bill\", \"bonds\", \"car\", \"car\", \"case\", \"case\", \"city\", \"city\", \"code\", \"code\", \"commissioners\", \"company\", \"company\", \"contract\", \"contracts\", \"convicted\", \"conviction\", \"convictions\", \"corporation\", \"corporation\", \"could\", \"could\", \"counsel\", \"counsel\", \"county\", \"county\", \"court\", \"court\", \"crime\", \"criminal\", \"criminal\", \"decree\", \"deed\", \"defendant\", \"defendant\", \"detective\", \"driving\", \"driving\", \"easement\", \"equity\", \"estate\", \"estate\", \"evidence\", \"evidence\", \"expert\", \"expert\", \"factors\", \"factors\", \"fees\", \"fees\", \"felony\", \"filed\", \"filed\", \"found\", \"found\", \"fund\", \"fund\", \"guilt\", \"guilty\", \"guilty\", \"gun\", \"hearing\", \"hearing\", \"hospital\", \"hospital\", \"however\", \"however\", \"ilcs\", \"ilcs\", \"illinois\", \"illinois\", \"indictment\", \"indictment\", \"injunction\", \"injuries\", \"injuries\", \"insurance\", \"insurance\", \"insured\", \"insured\", \"interest\", \"interest\", \"judgment\", \"judgment\", \"jurors\", \"jury\", \"jury\", \"land\", \"land\", \"lands\", \"law\", \"law\", \"lease\", \"lien\", \"lots\", \"lots\", \"made\", \"made\", \"may\", \"may\", \"medical\", \"medical\", \"mortgage\", \"motion\", \"motion\", \"murder\", \"negligence\", \"negligence\", \"offense\", \"offenses\", \"officer\", \"officer\", \"one\", \"one\", \"opinion\", \"opinion\", \"order\", \"order\", \"ordinance\", \"ordinance\", \"paid\", \"paid\", \"part\", \"part\", \"parties\", \"parties\", \"pay\", \"pay\", \"payment\", \"people\", \"people\", \"plaintiff\", \"plaintiff\", \"plat\", \"police\", \"police\", \"policy\", \"policy\", \"postconviction\", \"probation\", \"property\", \"property\", \"prosecutor\", \"purchaser\", \"regarding\", \"regarding\", \"respondent\", \"respondent\", \"robbery\", \"said\", \"said\", \"sale\", \"sale\", \"search\", \"search\", \"section\", \"section\", \"see\", \"see\", \"sentence\", \"sentence\", \"sentenced\", \"sentencing\", \"settlement\", \"settlement\", \"sexual\", \"shall\", \"shall\", \"shooting\", \"state\", \"state\", \"stated\", \"stated\", \"stock\", \"stock\", \"suit\", \"suit\", \"sum\", \"sum\", \"tax\", \"taxes\", \"testified\", \"testified\", \"testimony\", \"testimony\", \"time\", \"time\", \"title\", \"told\", \"told\", \"tract\", \"tract\", \"treatment\", \"treatment\", \"trial\", \"trial\", \"truck\", \"truck\", \"trust\", \"trust\", \"trustee\", \"upon\", \"upon\", \"vehicle\", \"vehicle\", \"victim\", \"west\", \"west\", \"whether\", \"whether\", \"would\", \"would\"]}, \"R\": 30, \"lambda.step\": 0.01, \"plot.opts\": {\"xlab\": \"PC1\", \"ylab\": \"PC2\"}, \"topic.order\": [2, 1]};\n",
       "\n",
       "function LDAvis_load_lib(url, callback){\n",
       "  var s = document.createElement('script');\n",
       "  s.src = url;\n",
       "  s.async = true;\n",
       "  s.onreadystatechange = s.onload = callback;\n",
       "  s.onerror = function(){console.warn(\"failed to load library \" + url);};\n",
       "  document.getElementsByTagName(\"head\")[0].appendChild(s);\n",
       "}\n",
       "\n",
       "if(typeof(LDAvis) !== \"undefined\"){\n",
       "   // already loaded: just create the visualization\n",
       "   !function(LDAvis){\n",
       "       new LDAvis(\"#\" + \"ldavis_el599620459601640645947127070\", ldavis_el599620459601640645947127070_data);\n",
       "   }(LDAvis);\n",
       "}else if(typeof define === \"function\" && define.amd){\n",
       "   // require.js is available: use it to load d3/LDAvis\n",
       "   require.config({paths: {d3: \"https://d3js.org/d3.v5\"}});\n",
       "   require([\"d3\"], function(d3){\n",
       "      window.d3 = d3;\n",
       "      LDAvis_load_lib(\"https://cdn.jsdelivr.net/gh/bmabey/pyLDAvis@3.3.1/pyLDAvis/js/ldavis.v3.0.0.js\", function(){\n",
       "        new LDAvis(\"#\" + \"ldavis_el599620459601640645947127070\", ldavis_el599620459601640645947127070_data);\n",
       "      });\n",
       "    });\n",
       "}else{\n",
       "    // require.js not available: dynamically load d3 & LDAvis\n",
       "    LDAvis_load_lib(\"https://d3js.org/d3.v5.js\", function(){\n",
       "         LDAvis_load_lib(\"https://cdn.jsdelivr.net/gh/bmabey/pyLDAvis@3.3.1/pyLDAvis/js/ldavis.v3.0.0.js\", function(){\n",
       "                 new LDAvis(\"#\" + \"ldavis_el599620459601640645947127070\", ldavis_el599620459601640645947127070_data);\n",
       "            })\n",
       "         });\n",
       "}\n",
       "</script>"
      ],
      "text/plain": [
       "PreparedData(topic_coordinates=              x    y  topics  cluster      Freq\n",
       "topic                                          \n",
       "1      0.108423  0.0       1        1  52.30563\n",
       "0     -0.108423  0.0       2        1  47.69437, topic_info=           Term          Freq         Total Category  logprob  loglift\n",
       "1385  defendant  1.719665e+06  1.719665e+06  Default  30.0000  30.0000\n",
       "1116      trial  1.130934e+06  1.130934e+06  Default  29.0000  29.0000\n",
       "856    property  5.664510e+05  5.664510e+05  Default  28.0000  28.0000\n",
       "981        said  8.242970e+05  8.242970e+05  Default  27.0000  27.0000\n",
       "3178   contract  3.473740e+05  3.473740e+05  Default  26.0000  26.0000\n",
       "...         ...           ...           ...      ...      ...      ...\n",
       "536    illinois  2.408295e+05  4.656207e+05   Topic2  -5.9025   0.0811\n",
       "1105       time  2.623337e+05  6.045542e+05   Topic2  -5.8170  -0.0945\n",
       "991     section  2.551258e+05  6.304861e+05   Topic2  -5.8448  -0.1644\n",
       "755         one  2.367957e+05  5.637455e+05   Topic2  -5.9194  -0.1270\n",
       "677         may  2.310809e+05  6.329241e+05   Topic2  -5.9438  -0.2672\n",
       "\n",
       "[187 rows x 6 columns], token_table=      Topic      Freq      Term\n",
       "term                           \n",
       "0         1  0.124298         a\n",
       "0         2  0.875702         a\n",
       "1992      1  0.028225  accident\n",
       "1992      2  0.971781  accident\n",
       "6430      1  0.999998     acres\n",
       "...     ...       ...       ...\n",
       "1172      2  0.723458      west\n",
       "1176      1  0.348571   whether\n",
       "1176      2  0.651430   whether\n",
       "1188      1  0.474005     would\n",
       "1188      2  0.525996     would\n",
       "\n",
       "[248 rows x 3 columns], R=30, lambda_step=0.01, plot_opts={'xlab': 'PC1', 'ylab': 'PC2'}, topic_order=[2, 1])"
      ]
     },
     "execution_count": 20,
     "metadata": {},
     "output_type": "execute_result"
    }
   ],
   "source": [
    "# Plotting tools\n",
    "import pyLDAvis\n",
    "import pyLDAvis.gensim_models as gensimvis\n",
    "pyLDAvis.enable_notebook()\n",
    "\n",
    "import matplotlib.pyplot as plt\n",
    "%matplotlib inline\n",
    "\n",
    "# Visualize the topics\n",
    "pyLDAvis.enable_notebook()\n",
    "vis = gensimvis.prepare(lda_model, corpus, id2word)\n",
    "vis"
   ]
  },
  {
   "cell_type": "code",
   "execution_count": 21,
   "id": "9f230ba5-c15c-4d2d-997e-53ffd49e2d2c",
   "metadata": {},
   "outputs": [
    {
     "name": "stdout",
     "output_type": "stream",
     "text": [
      "\n",
      "Coherence Score:  0.31933423756280216\n"
     ]
    }
   ],
   "source": [
    "# Compute Coherence Score\n",
    "coherence_model_lda = CoherenceModel(model=lda_model, texts=texts, dictionary=id2word, coherence='c_v')\n",
    "coherence_lda = coherence_model_lda.get_coherence()\n",
    "print('\\nCoherence Score: ', coherence_lda)"
   ]
  },
  {
   "cell_type": "markdown",
   "id": "96ff5253-05e2-4461-9efe-c8caa2c2de8c",
   "metadata": {},
   "source": [
    "Latent Semantic Indexin"
   ]
  },
  {
   "cell_type": "code",
   "execution_count": 15,
   "id": "ddf405a0-68ec-4367-a666-cf7bc4c93844",
   "metadata": {},
   "outputs": [
    {
     "name": "stderr",
     "output_type": "stream",
     "text": [
      "C:\\Users\\tompe\\anaconda3\\lib\\site-packages\\ipykernel\\ipkernel.py:287: DeprecationWarning: `should_run_async` will not call `transform_cell` automatically in the future. Please pass the result to `transformed_cell` argument and any exception that happen during thetransform in `preprocessing_exc_tuple` in IPython 7.17 and above.\n",
      "  and should_run_async(code)\n"
     ]
    },
    {
     "data": {
      "text/plain": [
       "gensim.interfaces.TransformedCorpus"
      ]
     },
     "execution_count": 15,
     "metadata": {},
     "output_type": "execute_result"
    }
   ],
   "source": [
    "from gensim.models import LsiModel\n",
    "\n",
    "model = LsiModel(corpus, id2word=id2word, num_topics=num_topics)\n",
    "\n",
    "vectors = model[corpus]\n",
    "\n",
    "type(vectors)"
   ]
  },
  {
   "cell_type": "code",
   "execution_count": 16,
   "id": "1d689ae1-f594-44a4-ac2a-af4f4939efcf",
   "metadata": {},
   "outputs": [
    {
     "name": "stderr",
     "output_type": "stream",
     "text": [
      "C:\\Users\\tompe\\anaconda3\\lib\\site-packages\\ipykernel\\ipkernel.py:287: DeprecationWarning: `should_run_async` will not call `transform_cell` automatically in the future. Please pass the result to `transformed_cell` argument and any exception that happen during thetransform in `preprocessing_exc_tuple` in IPython 7.17 and above.\n",
      "  and should_run_async(code)\n"
     ]
    },
    {
     "data": {
      "text/plain": [
       "(10, 386575)"
      ]
     },
     "execution_count": 16,
     "metadata": {},
     "output_type": "execute_result"
    }
   ],
   "source": [
    "topics = model.get_topics()\n",
    "topics.shape"
   ]
  },
  {
   "cell_type": "code",
   "execution_count": 17,
   "id": "c002df2a-cc81-4257-b498-c81ca3f46380",
   "metadata": {},
   "outputs": [
    {
     "name": "stdout",
     "output_type": "stream",
     "text": [
      "Topic 0\n",
      "[('court', 0.44), ('defendant', 0.4), ('trial', 0.22), ('evidence', 0.16), ('case', 0.15), ('would', 0.13), ('plaintiff', 0.13), ('said', 0.12), ('state', 0.12), ('people', 0.11)] \n",
      "\n",
      "Topic 1\n",
      "[('defendant', 0.66), ('said', -0.21), ('trial', 0.16), ('people', 0.15), ('court', -0.14), ('upon', -0.13), ('property', -0.13), ('act', -0.12), ('plaintiff', -0.11), ('company', -0.1)] \n",
      "\n",
      "Topic 2\n",
      "[('said', -0.51), ('court', 0.37), ('defendant', -0.25), ('trial', 0.2), ('company', -0.15), ('upon', -0.14), ('app', 0.14), ('section', 0.14), ('made', -0.12), ('motion', 0.11)] \n",
      "\n",
      "Topic 3\n",
      "[('plaintiff', -0.75), ('court', 0.19), ('state', 0.17), ('people', 0.15), ('evidence', -0.14), ('section', 0.11), ('said', 0.11), ('county', 0.11), ('act', 0.1), ('jury', -0.1)] \n",
      "\n",
      "Topic 4\n",
      "[('court', -0.42), ('act', 0.31), ('section', 0.24), ('trial', -0.2), ('state', 0.2), ('said', -0.19), ('city', 0.17), ('board', 0.16), ('public', 0.15), ('judgment', -0.12)] \n",
      "\n",
      "Topic 5\n",
      "[('defendant', 0.46), ('evidence', -0.37), ('plaintiff', 0.25), ('jury', -0.21), ('trial', -0.19), ('testimony', -0.18), ('testified', -0.17), ('respondent', -0.12), ('section', 0.12), ('judgment', 0.12)] \n",
      "\n",
      "Topic 6\n",
      "[('said', -0.31), ('property', 0.27), ('court', -0.21), ('contract', 0.19), ('plaintiff', -0.18), ('jury', -0.17), ('trust', 0.17), ('error', -0.16), ('bank', 0.16), ('agreement', 0.15)] \n",
      "\n",
      "Topic 7\n",
      "[('property', -0.44), ('company', 0.32), ('policy', 0.25), ('insurance', 0.25), ('city', -0.21), ('plaintiff', -0.21), ('contract', 0.18), ('state', 0.17), ('estate', -0.15), ('county', -0.14)] \n",
      "\n",
      "Topic 8\n",
      "[('company', -0.31), ('city', -0.28), ('said', 0.24), ('property', -0.24), ('respondent', 0.22), ('plaintiff', 0.19), ('railroad', -0.16), ('street', -0.16), ('act', 0.15), ('trial', -0.15)] \n",
      "\n",
      "Topic 9\n",
      "[('said', 0.54), ('trial', 0.36), ('company', 0.23), ('appellant', -0.17), ('appellee', -0.15), ('upon', -0.15), ('city', 0.15), ('app', 0.13), ('defendants', 0.12), ('judgment', -0.11)] \n",
      "\n"
     ]
    },
    {
     "name": "stderr",
     "output_type": "stream",
     "text": [
      "C:\\Users\\tompe\\anaconda3\\lib\\site-packages\\ipykernel\\ipkernel.py:287: DeprecationWarning: `should_run_async` will not call `transform_cell` automatically in the future. Please pass the result to `transformed_cell` argument and any exception that happen during thetransform in `preprocessing_exc_tuple` in IPython 7.17 and above.\n",
      "  and should_run_async(code)\n"
     ]
    }
   ],
   "source": [
    "\n",
    "for topicno in range(num_topics):\n",
    "    print('Topic {}'.format(topicno))\n",
    "    print([(x, round(y, 2)) for x, y in model.show_topic(topicno, topn=10)], '\\n')"
   ]
  },
  {
   "cell_type": "code",
   "execution_count": 49,
   "id": "cf442a36-4ae3-42c2-b80b-c4b4ccee4476",
   "metadata": {},
   "outputs": [
    {
     "name": "stderr",
     "output_type": "stream",
     "text": [
      "C:\\Users\\tompe\\anaconda3\\lib\\site-packages\\ipykernel\\ipkernel.py:287: DeprecationWarning: `should_run_async` will not call `transform_cell` automatically in the future. Please pass the result to `transformed_cell` argument and any exception that happen during thetransform in `preprocessing_exc_tuple` in IPython 7.17 and above.\n",
      "  and should_run_async(code)\n"
     ]
    },
    {
     "name": "stdout",
     "output_type": "stream",
     "text": [
      "\n",
      "Coherence Score:  0.3867220104224676\n"
     ]
    }
   ],
   "source": [
    "\n",
    "# Compute Coherence Score\n",
    "coherence_model_lda = CoherenceModel(model=model, texts=texts, dictionary=id2word, coherence='c_v')\n",
    "coherence_lda = coherence_model_lda.get_coherence()\n",
    "print('\\nCoherence Score: ', coherence_lda)"
   ]
  },
  {
   "cell_type": "code",
   "execution_count": 22,
   "id": "73f40aa0-638e-4772-b074-42e15e7467fb",
   "metadata": {},
   "outputs": [
    {
     "data": {
      "text/plain": [
       "[(0, 0.01597645), (1, 0.013337535)]"
      ]
     },
     "execution_count": 22,
     "metadata": {},
     "output_type": "execute_result"
    }
   ],
   "source": [
    "tid = id2word.token2id['court']\n",
    "lda_model.get_term_topics(tid)"
   ]
  },
  {
   "cell_type": "code",
   "execution_count": 23,
   "id": "099078ac-4be4-40a0-8f49-2df9f73601aa",
   "metadata": {},
   "outputs": [],
   "source": [
    "narcotics = ['cannabis', 'cocaine', 'methamphetamine', 'smart drugs', 'marijuana', 'MDMA', 'LSD', 'KETAMINA', 'heroin', 'fentanyl']\n",
    "weapons = ['gun', 'knife', 'weapon', 'firearm', 'rifle', 'carabine', 'shotgun', 'assaults rifle', 'sword', 'blunt objects'] \n",
    "investigation = ['gang', 'mafia', 'serial kiler', 'rape', 'thefts', 'recidivism', 'arrest', 'ethnicity', 'caucasian', 'afroamerican', 'native american', 'hispanic', 'gender', 'male', 'female', 'man', 'woman', 'girl', 'boy', 'robbery', 'cybercrime']"
   ]
  },
  {
   "cell_type": "code",
   "execution_count": 33,
   "id": "4775cbe9-61d9-4e2f-ace3-e3bffb9952ff",
   "metadata": {},
   "outputs": [
    {
     "name": "stdout",
     "output_type": "stream",
     "text": [
      "cannabis:\n",
      "[]\n",
      "cocaine:\n",
      "[]\n",
      "methamphetamine not find\n",
      "smart drugs not find\n",
      "marijuana:\n",
      "[]\n",
      "MDMA not find\n",
      "LSD not find\n",
      "KETAMINA not find\n",
      "heroin:\n",
      "[]\n",
      "fentanyl:\n",
      "[]\n"
     ]
    }
   ],
   "source": [
    "for n in narcotics:\n",
    "    try:\n",
    "        tid = id2word.token2id[n]\n",
    "        print(n + \":\")\n",
    "        print(lda_model.get_term_topics(tid))\n",
    "    except:\n",
    "        print(n + \" not find\")"
   ]
  },
  {
   "cell_type": "code",
   "execution_count": 34,
   "id": "1bea6acd-0395-47d2-a78f-d6a1e6f720c5",
   "metadata": {},
   "outputs": [
    {
     "name": "stdout",
     "output_type": "stream",
     "text": [
      "gun:\n",
      "[]\n",
      "knife:\n",
      "[]\n",
      "weapon:\n",
      "[]\n",
      "firearm:\n",
      "[]\n",
      "rifle:\n",
      "[]\n",
      "carabine not find\n",
      "shotgun:\n",
      "[]\n",
      "assaults rifle not find\n",
      "sword:\n",
      "[]\n",
      "blunt objects not find\n"
     ]
    }
   ],
   "source": [
    "for w in weapons:\n",
    "    try:\n",
    "        tid = id2word.token2id[w]\n",
    "        print(w + \":\")\n",
    "        print(lda_model.get_term_topics(tid))\n",
    "    except:\n",
    "        print(w + \" not find\")"
   ]
  },
  {
   "cell_type": "code",
   "execution_count": 35,
   "id": "bb583cec-a303-4a3b-b48b-16252e76d180",
   "metadata": {},
   "outputs": [
    {
     "name": "stdout",
     "output_type": "stream",
     "text": [
      "gang:\n",
      "[]\n",
      "mafia:\n",
      "[]\n",
      "serial kiler not find\n",
      "rape:\n",
      "[]\n",
      "thefts:\n",
      "[]\n",
      "recidivism:\n",
      "[]\n",
      "arrest:\n",
      "[]\n",
      "ethnicity:\n",
      "[]\n",
      "caucasian:\n",
      "[]\n",
      "afroamerican not find\n",
      "native american not find\n",
      "hispanic:\n",
      "[]\n",
      "gender:\n",
      "[]\n",
      "male:\n",
      "[]\n",
      "female:\n",
      "[]\n",
      "man:\n",
      "[]\n",
      "woman:\n",
      "[]\n",
      "girl:\n",
      "[]\n",
      "boy:\n",
      "[]\n",
      "robbery:\n",
      "[]\n",
      "cybercrime not find\n"
     ]
    }
   ],
   "source": [
    "for i in investigation:\n",
    "    try:\n",
    "        tid = id2word.token2id[i]\n",
    "        print(i + \":\")\n",
    "        print(lda_model.get_term_topics(tid))\n",
    "    except:\n",
    "        print(i + \" not find\")"
   ]
  },
  {
   "cell_type": "code",
   "execution_count": null,
   "id": "585bcd72-7540-4cdb-b432-640788eb6fec",
   "metadata": {},
   "outputs": [],
   "source": []
  },
  {
   "cell_type": "code",
   "execution_count": null,
   "id": "4f971775-9a4e-40a7-b061-ba31b0805d75",
   "metadata": {},
   "outputs": [],
   "source": []
  }
 ],
 "metadata": {
  "kernelspec": {
   "display_name": "Python 3",
   "language": "python",
   "name": "python3"
  },
  "language_info": {
   "codemirror_mode": {
    "name": "ipython",
    "version": 3
   },
   "file_extension": ".py",
   "mimetype": "text/x-python",
   "name": "python",
   "nbconvert_exporter": "python",
   "pygments_lexer": "ipython3",
   "version": "3.8.8"
  }
 },
 "nbformat": 4,
 "nbformat_minor": 5
}
