{
 "cells": [
  {
   "cell_type": "code",
   "execution_count": 1,
   "id": "4b93ff76-693c-4d16-9efd-7d810352a040",
   "metadata": {},
   "outputs": [
    {
     "name": "stdout",
     "output_type": "stream",
     "text": [
      "Requirement already satisfied: json-lines in c:\\users\\tompe\\anaconda3\\lib\\site-packages (0.5.0)\n",
      "Requirement already satisfied: six in c:\\users\\tompe\\anaconda3\\lib\\site-packages (from json-lines) (1.15.0)\n"
     ]
    }
   ],
   "source": [
    "!python -m pip install json-lines"
   ]
  },
  {
   "cell_type": "code",
   "execution_count": 2,
   "id": "c7209390-1cac-43fb-88d5-82599cdadf7c",
   "metadata": {},
   "outputs": [],
   "source": [
    "import json_lines\n",
    "\n",
    "with open('Illinois-20200302-xml/data/data.jsonl/data.jsonl', 'rb') as f: # opening file in binary(rb) mode \n",
    "    df = list(json_lines.reader(f))\n",
    "    for item in json_lines.reader(f):\n",
    "        print(item) #or use print(item['X']) for printing specific data\n",
    "        break"
   ]
  },
  {
   "cell_type": "code",
   "execution_count": 3,
   "id": "e9d3d1c1-94d7-46f6-a80d-0b1e38733186",
   "metadata": {},
   "outputs": [],
   "source": [
    "import json\n",
    "\n",
    "tot = len(df)\n",
    "json_list = []\n",
    "json_date = []\n",
    "\n",
    "for n in range(0,tot):\n",
    "    json_list.append(json.dumps(df[n]['casebody']))\n",
    "    json_date.append(json.dumps(df[n]['decision_date']))"
   ]
  },
  {
   "cell_type": "code",
   "execution_count": 4,
   "id": "9dbb25bc-f5da-4206-bbf2-4a69abd263a9",
   "metadata": {},
   "outputs": [
    {
     "name": "stderr",
     "output_type": "stream",
     "text": [
      "[nltk_data] Downloading package stopwords to\n",
      "[nltk_data]     C:\\Users\\tompe\\AppData\\Roaming\\nltk_data...\n",
      "[nltk_data]   Package stopwords is already up-to-date!\n",
      "[nltk_data] Downloading package punkt to\n",
      "[nltk_data]     C:\\Users\\tompe\\AppData\\Roaming\\nltk_data...\n",
      "[nltk_data]   Package punkt is already up-to-date!\n"
     ]
    }
   ],
   "source": [
    "import re\n",
    "import nltk\n",
    "import json\n",
    "from nltk.corpus import stopwords\n",
    "nltk.download('stopwords')\n",
    "nltk.download('punkt')\n",
    "\n",
    "def clean_text(text):\n",
    "    # Convert words to lower case\n",
    "    text = text.lower() \n",
    "\n",
    "    text = re.sub('<.*?>', ' ', text)\n",
    "    text = re.sub('[a-zA-Z]+\\\\\\\\[a-zA-Z]+', ' ', text)\n",
    "    text = re.sub('\\\\\\\\[a-zA-Z]+', ' ', text)\n",
    "    text = re.sub('\\\\\\\\\"', '\"', text)\n",
    "    text = re.sub('[0-9]+[a-zA-Z]+', '', text)\n",
    "    text = re.sub('\\*', '', text)\n",
    "    text = re.sub('amp', '', text)\n",
    "    text = re.sub('[0-9]+', '', text)\n",
    "    \n",
    "    #Remove stopwords\n",
    "    stop_words = set(stopwords.words('english'))\n",
    "    text = \" \".join([i for i in text.split() if i not in stop_words])\n",
    "    \n",
    "    #Remove punctuation\n",
    "    words = nltk.word_tokenize(text)\n",
    "    text = [word for word in words if word.isalnum()]\n",
    "\n",
    "    return text"
   ]
  },
  {
   "cell_type": "code",
   "execution_count": 5,
   "id": "5019b10d-22f4-4033-9b2e-3be1b4ae71c7",
   "metadata": {},
   "outputs": [],
   "source": [
    "# for topic model\n",
    "\n",
    "texts = []\n",
    "\n",
    "for sentence in json_list:\n",
    "    texts.append(clean_text(sentence))"
   ]
  },
  {
   "cell_type": "code",
   "execution_count": null,
   "id": "06c42155-5dc3-437f-8a25-3546ef0c2c76",
   "metadata": {},
   "outputs": [],
   "source": []
  },
  {
   "cell_type": "code",
   "execution_count": null,
   "id": "24de9b63-c425-4dc7-a2e2-4947e928b693",
   "metadata": {},
   "outputs": [],
   "source": [
    "narcotics = ['cannabis', 'cocaine', 'methamphetamine', 'smart drugs', 'marijuana', 'MDMA', 'LSD', 'KETAMINA', 'heroin', 'fentanyl']\n",
    "weapons = ['gun', 'knife', 'weapon', 'firearm', 'rifle', 'carabine', 'shotgun', 'assaults rifle', 'sword', 'blunt objects'] \n",
    "investigation = ['gang', 'mafia', 'serial kiler', 'rape', 'thefts', 'recidivism', 'arrest', 'ethnicity', 'caucasian', 'afroamerican', 'native american', 'hispanic', 'gender', 'male', 'female', 'man', 'woman', 'girl', 'boy', 'robbery', 'cybercrime']"
   ]
  },
  {
   "cell_type": "code",
   "execution_count": null,
   "id": "73bc179c-34ed-4487-af0b-97643688a759",
   "metadata": {},
   "outputs": [],
   "source": [
    "from collections import Counter\n",
    "from math import log\n",
    "from nltk import word_tokenize\n",
    "from nltk.corpus import brown\n",
    "\n",
    "nltk.download('brown')"
   ]
  },
  {
   "cell_type": "code",
   "execution_count": 89,
   "id": "1e5123b0-8f53-4866-8d95-306ec2306352",
   "metadata": {},
   "outputs": [],
   "source": [
    "trend_dateNarco = []\n",
    "countSent = 0\n",
    "countDate = 0\n",
    "    \n",
    "for sentence in texts:\n",
    "    for narcos in narcotics:\n",
    "        if narcos in sentence:\n",
    "            trend_dateNarco.append(json_date[countDate])\n",
    "            break\n",
    "    countDate += 1"
   ]
  },
  {
   "cell_type": "code",
   "execution_count": 100,
   "id": "6712b5a8-b35f-432b-8ceb-d96ddab60af0",
   "metadata": {},
   "outputs": [],
   "source": [
    "#trend_dateNarco\n",
    "from datetime import datetime\n",
    "\n",
    "trendNarco = []\n",
    "for data in trend_dateNarco:\n",
    "    if len(data) == 9:\n",
    "        #gg+mm\n",
    "        data = data.replace('\"', \"\")\n",
    "        \n",
    "        #print(\"1\")\n",
    "        #print(data)\n",
    "    elif len(data) < 9:\n",
    "        #aa\n",
    "        data = data.replace('\"', \"\")\n",
    "        \n",
    "        #pritn(\"2\")\n",
    "        #print(data)\n",
    "    else:\n",
    "        #a-m-g\n",
    "        data = data.replace('\"', \"\")\n",
    "        \n",
    "        #print(\"3\")\n",
    "        #print(data)\n",
    "    trendNarco.append(data)"
   ]
  },
  {
   "cell_type": "code",
   "execution_count": 104,
   "id": "b397e44f-bdcd-421e-a27f-dc03eafe7659",
   "metadata": {},
   "outputs": [],
   "source": [
    "test = [x.split(\"-\")[0] for x in trendNarco]\n",
    "from collections import Counter\n",
    "countDateNarcos = Counter(test)"
   ]
  },
  {
   "cell_type": "code",
   "execution_count": null,
   "id": "72261788-0913-44dc-a0e2-8d4f22eb3660",
   "metadata": {},
   "outputs": [],
   "source": [
    "countDateNarcos"
   ]
  },
  {
   "cell_type": "code",
   "execution_count": 106,
   "id": "0011060d-bb68-45af-bf72-5d19555ef8c4",
   "metadata": {},
   "outputs": [
    {
     "data": {
      "text/plain": [
       "<BarContainer object of 141 artists>"
      ]
     },
     "execution_count": 106,
     "metadata": {},
     "output_type": "execute_result"
    },
    {
     "data": {
      "image/png": "[encoded data removed]",
      "text/plain": [
       "<Figure size 432x288 with 1 Axes>"
      ]
     },
     "metadata": {
      "needs_background": "light"
     },
     "output_type": "display_data"
    }
   ],
   "source": [
    "import matplotlib.pyplot as plt\n",
    "plt.bar(countDateNarcos.keys(), countDateNarcos.values())"
   ]
  },
  {
   "cell_type": "code",
   "execution_count": null,
   "id": "fe6df7a8-84a6-4244-8dac-605d4c38e0c4",
   "metadata": {},
   "outputs": [],
   "source": []
  },
  {
   "cell_type": "code",
   "execution_count": 116,
   "id": "df2dac98-ea38-4358-a4eb-1d489435efa8",
   "metadata": {},
   "outputs": [
    {
     "data": {
      "text/html": [
       "<div>\n",
       "<style scoped>\n",
       "    .dataframe tbody tr th:only-of-type {\n",
       "        vertical-align: middle;\n",
       "    }\n",
       "\n",
       "    .dataframe tbody tr th {\n",
       "        vertical-align: top;\n",
       "    }\n",
       "\n",
       "    .dataframe thead th {\n",
       "        text-align: right;\n",
       "    }\n",
       "</style>\n",
       "<table border=\"1\" class=\"dataframe\">\n",
       "  <thead>\n",
       "    <tr style=\"text-align: right;\">\n",
       "      <th></th>\n",
       "      <th>index</th>\n",
       "      <th>0</th>\n",
       "    </tr>\n",
       "  </thead>\n",
       "  <tbody>\n",
       "    <tr>\n",
       "      <th>0</th>\n",
       "      <td>1828</td>\n",
       "      <td>1</td>\n",
       "    </tr>\n",
       "    <tr>\n",
       "      <th>1</th>\n",
       "      <td>1841</td>\n",
       "      <td>1</td>\n",
       "    </tr>\n",
       "    <tr>\n",
       "      <th>2</th>\n",
       "      <td>1843</td>\n",
       "      <td>1</td>\n",
       "    </tr>\n",
       "    <tr>\n",
       "      <th>3</th>\n",
       "      <td>1845</td>\n",
       "      <td>2</td>\n",
       "    </tr>\n",
       "    <tr>\n",
       "      <th>4</th>\n",
       "      <td>1850</td>\n",
       "      <td>1</td>\n",
       "    </tr>\n",
       "  </tbody>\n",
       "</table>\n",
       "</div>"
      ],
      "text/plain": [
       "  index  0\n",
       "0  1828  1\n",
       "1  1841  1\n",
       "2  1843  1\n",
       "3  1845  2\n",
       "4  1850  1"
      ]
     },
     "execution_count": 116,
     "metadata": {},
     "output_type": "execute_result"
    }
   ],
   "source": [
    "import pandas as pd\n",
    "df = pd.DataFrame.from_dict(countDateNarcos, orient='index').reset_index()\n",
    "df.head()"
   ]
  },
  {
   "cell_type": "code",
   "execution_count": 128,
   "id": "8ff0edcb-b2e7-463f-9285-4a4bdf014785",
   "metadata": {},
   "outputs": [],
   "source": [
    "filtereDf = df.loc[df[0] > 0]\n",
    "filtereDf = filtereDf.sort_values('index')"
   ]
  },
  {
   "cell_type": "code",
   "execution_count": 129,
   "id": "391456ba-5da7-43cd-9e11-00a571893f2c",
   "metadata": {},
   "outputs": [
    {
     "data": {
      "text/plain": [
       "<AxesSubplot:>"
      ]
     },
     "execution_count": 129,
     "metadata": {},
     "output_type": "execute_result"
    },
    {
     "data": {
      "image/png": "[encoded data removed]",
      "text/plain": [
       "<Figure size 432x288 with 1 Axes>"
      ]
     },
     "metadata": {
      "needs_background": "light"
     },
     "output_type": "display_data"
    }
   ],
   "source": [
    "filtereDf.plot()"
   ]
  },
  {
   "cell_type": "code",
   "execution_count": 132,
   "id": "68eec169-be48-4c63-904a-1ded66c42414",
   "metadata": {},
   "outputs": [
    {
     "data": {
      "text/html": [
       "<div>\n",
       "<style scoped>\n",
       "    .dataframe tbody tr th:only-of-type {\n",
       "        vertical-align: middle;\n",
       "    }\n",
       "\n",
       "    .dataframe tbody tr th {\n",
       "        vertical-align: top;\n",
       "    }\n",
       "\n",
       "    .dataframe thead th {\n",
       "        text-align: right;\n",
       "    }\n",
       "</style>\n",
       "<table border=\"1\" class=\"dataframe\">\n",
       "  <thead>\n",
       "    <tr style=\"text-align: right;\">\n",
       "      <th></th>\n",
       "      <th>index</th>\n",
       "      <th>0</th>\n",
       "    </tr>\n",
       "  </thead>\n",
       "  <tbody>\n",
       "    <tr>\n",
       "      <th>105</th>\n",
       "      <td>1973</td>\n",
       "      <td>427</td>\n",
       "    </tr>\n",
       "    <tr>\n",
       "      <th>106</th>\n",
       "      <td>1974</td>\n",
       "      <td>541</td>\n",
       "    </tr>\n",
       "    <tr>\n",
       "      <th>107</th>\n",
       "      <td>1975</td>\n",
       "      <td>446</td>\n",
       "    </tr>\n",
       "    <tr>\n",
       "      <th>112</th>\n",
       "      <td>1980</td>\n",
       "      <td>427</td>\n",
       "    </tr>\n",
       "    <tr>\n",
       "      <th>113</th>\n",
       "      <td>1981</td>\n",
       "      <td>432</td>\n",
       "    </tr>\n",
       "    <tr>\n",
       "      <th>115</th>\n",
       "      <td>1983</td>\n",
       "      <td>341</td>\n",
       "    </tr>\n",
       "    <tr>\n",
       "      <th>118</th>\n",
       "      <td>1986</td>\n",
       "      <td>371</td>\n",
       "    </tr>\n",
       "  </tbody>\n",
       "</table>\n",
       "</div>"
      ],
      "text/plain": [
       "    index    0\n",
       "105  1973  427\n",
       "106  1974  541\n",
       "107  1975  446\n",
       "112  1980  427\n",
       "113  1981  432\n",
       "115  1983  341\n",
       "118  1986  371"
      ]
     },
     "execution_count": 132,
     "metadata": {},
     "output_type": "execute_result"
    }
   ],
   "source": [
    "df.loc[df[0] > 300]"
   ]
  },
  {
   "cell_type": "markdown",
   "id": "6f70d12a-04f8-474c-b7b7-cf363b8496c7",
   "metadata": {},
   "source": [
    "he Federal Comprehensive Drug Abuse Prevention and Control Act of 1970, more commonly known as the Controlled Substances Act, became effective on May 1, 1971. ... The goal of the Controlled Substances Act is to improve the manufacturing, importation and exportation, distribution, and dispensing of controlled substances.\n",
    "\n",
    "\n",
    "The Drug Enforcement Administration (DEA) 1980-1985"
   ]
  },
  {
   "cell_type": "markdown",
   "id": "c3eed4ea-5396-4766-a076-c544004e47cf",
   "metadata": {},
   "source": [
    "---------------------------------------  Other"
   ]
  },
  {
   "cell_type": "code",
   "execution_count": 133,
   "id": "20f89fc9-7e78-4e50-badb-a334d4ea9ab6",
   "metadata": {},
   "outputs": [],
   "source": [
    "trend_dateInvestigation = []\n",
    "countSent = 0\n",
    "countDate = 0\n",
    "    \n",
    "for sentence in texts:\n",
    "    for inv in investigation:\n",
    "        if inv in sentence:\n",
    "            trend_dateInvestigation.append(json_date[countDate])\n",
    "            break\n",
    "    countDate += 1"
   ]
  },
  {
   "cell_type": "code",
   "execution_count": 134,
   "id": "1f184409-a168-421e-a3c5-49770b3ca329",
   "metadata": {},
   "outputs": [],
   "source": [
    "trendInvestigation = []\n",
    "for data in trend_dateInvestigation:\n",
    "    if len(data) == 9:\n",
    "        #gg+mm\n",
    "        data = data.replace('\"', \"\")\n",
    "        \n",
    "        #print(\"1\")\n",
    "        #print(data)\n",
    "    elif len(data) < 9:\n",
    "        #aa\n",
    "        data = data.replace('\"', \"\")\n",
    "        \n",
    "        #pritn(\"2\")\n",
    "        #print(data)\n",
    "    else:\n",
    "        #a-m-g\n",
    "        data = data.replace('\"', \"\")\n",
    "        \n",
    "        #print(\"3\")\n",
    "        #print(data)\n",
    "    trendInvestigation.append(data)"
   ]
  },
  {
   "cell_type": "code",
   "execution_count": 135,
   "id": "f363625e-015b-4573-ae89-b817a642a76c",
   "metadata": {},
   "outputs": [],
   "source": [
    "test = [x.split(\"-\")[0] for x in trendInvestigation]\n",
    "from collections import Counter\n",
    "countDateInvestigation = Counter(test)"
   ]
  },
  {
   "cell_type": "code",
   "execution_count": 136,
   "id": "23e9146e-c6ec-48c0-bba1-e94a72a1a8c3",
   "metadata": {},
   "outputs": [
    {
     "data": {
      "text/plain": [
       "<BarContainer object of 187 artists>"
      ]
     },
     "execution_count": 136,
     "metadata": {},
     "output_type": "execute_result"
    },
    {
     "data": {
      "image/png": "[encoded data removed]",
      "text/plain": [
       "<Figure size 432x288 with 1 Axes>"
      ]
     },
     "metadata": {
      "needs_background": "light"
     },
     "output_type": "display_data"
    }
   ],
   "source": [
    "import matplotlib.pyplot as plt\n",
    "plt.bar(countDateInvestigation.keys(), countDateInvestigation.values())"
   ]
  },
  {
   "cell_type": "code",
   "execution_count": 137,
   "id": "bd4ae502-99d9-4472-9e9d-46f8230135bd",
   "metadata": {},
   "outputs": [
    {
     "data": {
      "text/html": [
       "<div>\n",
       "<style scoped>\n",
       "    .dataframe tbody tr th:only-of-type {\n",
       "        vertical-align: middle;\n",
       "    }\n",
       "\n",
       "    .dataframe tbody tr th {\n",
       "        vertical-align: top;\n",
       "    }\n",
       "\n",
       "    .dataframe thead th {\n",
       "        text-align: right;\n",
       "    }\n",
       "</style>\n",
       "<table border=\"1\" class=\"dataframe\">\n",
       "  <thead>\n",
       "    <tr style=\"text-align: right;\">\n",
       "      <th></th>\n",
       "      <th>index</th>\n",
       "      <th>0</th>\n",
       "    </tr>\n",
       "  </thead>\n",
       "  <tbody>\n",
       "    <tr>\n",
       "      <th>0</th>\n",
       "      <td>1820</td>\n",
       "      <td>1</td>\n",
       "    </tr>\n",
       "    <tr>\n",
       "      <th>1</th>\n",
       "      <td>1823</td>\n",
       "      <td>1</td>\n",
       "    </tr>\n",
       "    <tr>\n",
       "      <th>2</th>\n",
       "      <td>1825</td>\n",
       "      <td>5</td>\n",
       "    </tr>\n",
       "    <tr>\n",
       "      <th>3</th>\n",
       "      <td>1826</td>\n",
       "      <td>4</td>\n",
       "    </tr>\n",
       "    <tr>\n",
       "      <th>4</th>\n",
       "      <td>1828</td>\n",
       "      <td>5</td>\n",
       "    </tr>\n",
       "  </tbody>\n",
       "</table>\n",
       "</div>"
      ],
      "text/plain": [
       "  index  0\n",
       "0  1820  1\n",
       "1  1823  1\n",
       "2  1825  5\n",
       "3  1826  4\n",
       "4  1828  5"
      ]
     },
     "execution_count": 137,
     "metadata": {},
     "output_type": "execute_result"
    }
   ],
   "source": [
    "dfInv = pd.DataFrame.from_dict(countDateInvestigation, orient='index').reset_index()\n",
    "dfInv.head()"
   ]
  },
  {
   "cell_type": "code",
   "execution_count": 140,
   "id": "68dcf5c6-a602-4c58-9ef0-e7e39f5f86f6",
   "metadata": {},
   "outputs": [
    {
     "data": {
      "text/html": [
       "<div>\n",
       "<style scoped>\n",
       "    .dataframe tbody tr th:only-of-type {\n",
       "        vertical-align: middle;\n",
       "    }\n",
       "\n",
       "    .dataframe tbody tr th {\n",
       "        vertical-align: top;\n",
       "    }\n",
       "\n",
       "    .dataframe thead th {\n",
       "        text-align: right;\n",
       "    }\n",
       "</style>\n",
       "<table border=\"1\" class=\"dataframe\">\n",
       "  <thead>\n",
       "    <tr style=\"text-align: right;\">\n",
       "      <th></th>\n",
       "      <th>index</th>\n",
       "      <th>0</th>\n",
       "    </tr>\n",
       "  </thead>\n",
       "  <tbody>\n",
       "    <tr>\n",
       "      <th>148</th>\n",
       "      <td>1973</td>\n",
       "      <td>1639</td>\n",
       "    </tr>\n",
       "    <tr>\n",
       "      <th>149</th>\n",
       "      <td>1974</td>\n",
       "      <td>2138</td>\n",
       "    </tr>\n",
       "    <tr>\n",
       "      <th>150</th>\n",
       "      <td>1975</td>\n",
       "      <td>2041</td>\n",
       "    </tr>\n",
       "    <tr>\n",
       "      <th>151</th>\n",
       "      <td>1976</td>\n",
       "      <td>1331</td>\n",
       "    </tr>\n",
       "    <tr>\n",
       "      <th>152</th>\n",
       "      <td>1977</td>\n",
       "      <td>1453</td>\n",
       "    </tr>\n",
       "    <tr>\n",
       "      <th>153</th>\n",
       "      <td>1978</td>\n",
       "      <td>1230</td>\n",
       "    </tr>\n",
       "    <tr>\n",
       "      <th>154</th>\n",
       "      <td>1979</td>\n",
       "      <td>1269</td>\n",
       "    </tr>\n",
       "    <tr>\n",
       "      <th>155</th>\n",
       "      <td>1980</td>\n",
       "      <td>1763</td>\n",
       "    </tr>\n",
       "    <tr>\n",
       "      <th>156</th>\n",
       "      <td>1981</td>\n",
       "      <td>1596</td>\n",
       "    </tr>\n",
       "    <tr>\n",
       "      <th>157</th>\n",
       "      <td>1982</td>\n",
       "      <td>1150</td>\n",
       "    </tr>\n",
       "    <tr>\n",
       "      <th>158</th>\n",
       "      <td>1983</td>\n",
       "      <td>1202</td>\n",
       "    </tr>\n",
       "    <tr>\n",
       "      <th>160</th>\n",
       "      <td>1985</td>\n",
       "      <td>1162</td>\n",
       "    </tr>\n",
       "    <tr>\n",
       "      <th>161</th>\n",
       "      <td>1986</td>\n",
       "      <td>1303</td>\n",
       "    </tr>\n",
       "    <tr>\n",
       "      <th>162</th>\n",
       "      <td>1987</td>\n",
       "      <td>1181</td>\n",
       "    </tr>\n",
       "  </tbody>\n",
       "</table>\n",
       "</div>"
      ],
      "text/plain": [
       "    index     0\n",
       "148  1973  1639\n",
       "149  1974  2138\n",
       "150  1975  2041\n",
       "151  1976  1331\n",
       "152  1977  1453\n",
       "153  1978  1230\n",
       "154  1979  1269\n",
       "155  1980  1763\n",
       "156  1981  1596\n",
       "157  1982  1150\n",
       "158  1983  1202\n",
       "160  1985  1162\n",
       "161  1986  1303\n",
       "162  1987  1181"
      ]
     },
     "execution_count": 140,
     "metadata": {},
     "output_type": "execute_result"
    }
   ],
   "source": [
    "dfInv.loc[dfInv[0] > 1000]"
   ]
  },
  {
   "cell_type": "code",
   "execution_count": null,
   "id": "4ac6acf1-3f7d-4198-a332-34e9d330f953",
   "metadata": {},
   "outputs": [],
   "source": [
    "# CHECK WEAPON AND CHEK SENTENCES BY YEAR (GENERALLY SPEAKING)"
   ]
  },
  {
   "cell_type": "code",
   "execution_count": 141,
   "id": "d900e343-2dce-4bf2-a71c-a845fd795405",
   "metadata": {},
   "outputs": [],
   "source": [
    "# weapon\n",
    "\n",
    "trend_dateWeapon = []\n",
    "countSent = 0\n",
    "countDate = 0\n",
    "    \n",
    "for sentence in texts:\n",
    "    for inv in weapons:\n",
    "        if inv in sentence:\n",
    "            trend_dateWeapon.append(json_date[countDate])\n",
    "            break\n",
    "    countDate += 1\n",
    "    \n",
    "trendWeapon = []\n",
    "for data in trend_dateWeapon:\n",
    "    if len(data) == 9:\n",
    "        #gg+mm\n",
    "        data = data.replace('\"', \"\")\n",
    "        \n",
    "        #print(\"1\")\n",
    "        #print(data)\n",
    "    elif len(data) < 9:\n",
    "        #aa\n",
    "        data = data.replace('\"', \"\")\n",
    "        \n",
    "        #pritn(\"2\")\n",
    "        #print(data)\n",
    "    else:\n",
    "        #a-m-g\n",
    "        data = data.replace('\"', \"\")\n",
    "        \n",
    "        #print(\"3\")\n",
    "        #print(data)\n",
    "    trendWeapon.append(data)\n",
    "    \n",
    "test = [x.split(\"-\")[0] for x in trendWeapon]\n",
    "from collections import Counter\n",
    "countDateWeapon = Counter(test)"
   ]
  },
  {
   "cell_type": "code",
   "execution_count": 142,
   "id": "8b34c374-bf3e-4a1e-ba6c-24aa8ccd98ea",
   "metadata": {},
   "outputs": [
    {
     "data": {
      "text/plain": [
       "<BarContainer object of 170 artists>"
      ]
     },
     "execution_count": 142,
     "metadata": {},
     "output_type": "execute_result"
    },
    {
     "data": {
      "image/png": "[encoded data removed]",
      "text/plain": [
       "<Figure size 432x288 with 1 Axes>"
      ]
     },
     "metadata": {
      "needs_background": "light"
     },
     "output_type": "display_data"
    }
   ],
   "source": [
    "import matplotlib.pyplot as plt\n",
    "plt.bar(countDateWeapon.keys(), countDateWeapon.values())"
   ]
  },
  {
   "cell_type": "code",
   "execution_count": 143,
   "id": "dc583b2d-1e7f-48cb-ac44-c422e3cb7ceb",
   "metadata": {},
   "outputs": [
    {
     "data": {
      "text/html": [
       "<div>\n",
       "<style scoped>\n",
       "    .dataframe tbody tr th:only-of-type {\n",
       "        vertical-align: middle;\n",
       "    }\n",
       "\n",
       "    .dataframe tbody tr th {\n",
       "        vertical-align: top;\n",
       "    }\n",
       "\n",
       "    .dataframe thead th {\n",
       "        text-align: right;\n",
       "    }\n",
       "</style>\n",
       "<table border=\"1\" class=\"dataframe\">\n",
       "  <thead>\n",
       "    <tr style=\"text-align: right;\">\n",
       "      <th></th>\n",
       "      <th>index</th>\n",
       "      <th>0</th>\n",
       "    </tr>\n",
       "  </thead>\n",
       "  <tbody>\n",
       "    <tr>\n",
       "      <th>148</th>\n",
       "      <td>1973</td>\n",
       "      <td>1639</td>\n",
       "    </tr>\n",
       "    <tr>\n",
       "      <th>149</th>\n",
       "      <td>1974</td>\n",
       "      <td>2138</td>\n",
       "    </tr>\n",
       "    <tr>\n",
       "      <th>150</th>\n",
       "      <td>1975</td>\n",
       "      <td>2041</td>\n",
       "    </tr>\n",
       "    <tr>\n",
       "      <th>151</th>\n",
       "      <td>1976</td>\n",
       "      <td>1331</td>\n",
       "    </tr>\n",
       "    <tr>\n",
       "      <th>152</th>\n",
       "      <td>1977</td>\n",
       "      <td>1453</td>\n",
       "    </tr>\n",
       "    <tr>\n",
       "      <th>153</th>\n",
       "      <td>1978</td>\n",
       "      <td>1230</td>\n",
       "    </tr>\n",
       "    <tr>\n",
       "      <th>154</th>\n",
       "      <td>1979</td>\n",
       "      <td>1269</td>\n",
       "    </tr>\n",
       "    <tr>\n",
       "      <th>155</th>\n",
       "      <td>1980</td>\n",
       "      <td>1763</td>\n",
       "    </tr>\n",
       "    <tr>\n",
       "      <th>156</th>\n",
       "      <td>1981</td>\n",
       "      <td>1596</td>\n",
       "    </tr>\n",
       "    <tr>\n",
       "      <th>157</th>\n",
       "      <td>1982</td>\n",
       "      <td>1150</td>\n",
       "    </tr>\n",
       "    <tr>\n",
       "      <th>158</th>\n",
       "      <td>1983</td>\n",
       "      <td>1202</td>\n",
       "    </tr>\n",
       "    <tr>\n",
       "      <th>159</th>\n",
       "      <td>1984</td>\n",
       "      <td>994</td>\n",
       "    </tr>\n",
       "    <tr>\n",
       "      <th>160</th>\n",
       "      <td>1985</td>\n",
       "      <td>1162</td>\n",
       "    </tr>\n",
       "    <tr>\n",
       "      <th>161</th>\n",
       "      <td>1986</td>\n",
       "      <td>1303</td>\n",
       "    </tr>\n",
       "    <tr>\n",
       "      <th>162</th>\n",
       "      <td>1987</td>\n",
       "      <td>1181</td>\n",
       "    </tr>\n",
       "  </tbody>\n",
       "</table>\n",
       "</div>"
      ],
      "text/plain": [
       "    index     0\n",
       "148  1973  1639\n",
       "149  1974  2138\n",
       "150  1975  2041\n",
       "151  1976  1331\n",
       "152  1977  1453\n",
       "153  1978  1230\n",
       "154  1979  1269\n",
       "155  1980  1763\n",
       "156  1981  1596\n",
       "157  1982  1150\n",
       "158  1983  1202\n",
       "159  1984   994\n",
       "160  1985  1162\n",
       "161  1986  1303\n",
       "162  1987  1181"
      ]
     },
     "execution_count": 143,
     "metadata": {},
     "output_type": "execute_result"
    }
   ],
   "source": [
    "dfInv.loc[dfInv[0] > 800]"
   ]
  },
  {
   "cell_type": "code",
   "execution_count": 8,
   "id": "3084af52-8dc0-423e-ac7e-cec129cf30d9",
   "metadata": {},
   "outputs": [],
   "source": [
    "# general\n",
    "import pandas as pd\n",
    "df = pd.DataFrame(json_date)\n"
   ]
  },
  {
   "cell_type": "code",
   "execution_count": 9,
   "id": "23fb8d12-4504-49f0-98d3-99a3be3e32b6",
   "metadata": {},
   "outputs": [
    {
     "data": {
      "text/html": [
       "<div>\n",
       "<style scoped>\n",
       "    .dataframe tbody tr th:only-of-type {\n",
       "        vertical-align: middle;\n",
       "    }\n",
       "\n",
       "    .dataframe tbody tr th {\n",
       "        vertical-align: top;\n",
       "    }\n",
       "\n",
       "    .dataframe thead th {\n",
       "        text-align: right;\n",
       "    }\n",
       "</style>\n",
       "<table border=\"1\" class=\"dataframe\">\n",
       "  <thead>\n",
       "    <tr style=\"text-align: right;\">\n",
       "      <th></th>\n",
       "      <th>0</th>\n",
       "    </tr>\n",
       "  </thead>\n",
       "  <tbody>\n",
       "    <tr>\n",
       "      <th>0</th>\n",
       "      <td>\"1997-05-01\"</td>\n",
       "    </tr>\n",
       "    <tr>\n",
       "      <th>1</th>\n",
       "      <td>\"1997-04-17\"</td>\n",
       "    </tr>\n",
       "    <tr>\n",
       "      <th>2</th>\n",
       "      <td>\"1997-03-20\"</td>\n",
       "    </tr>\n",
       "    <tr>\n",
       "      <th>3</th>\n",
       "      <td>\"1997-05-01\"</td>\n",
       "    </tr>\n",
       "    <tr>\n",
       "      <th>4</th>\n",
       "      <td>\"1997-04-17\"</td>\n",
       "    </tr>\n",
       "  </tbody>\n",
       "</table>\n",
       "</div>"
      ],
      "text/plain": [
       "              0\n",
       "0  \"1997-05-01\"\n",
       "1  \"1997-04-17\"\n",
       "2  \"1997-03-20\"\n",
       "3  \"1997-05-01\"\n",
       "4  \"1997-04-17\""
      ]
     },
     "execution_count": 9,
     "metadata": {},
     "output_type": "execute_result"
    }
   ],
   "source": [
    "df.head()"
   ]
  },
  {
   "cell_type": "code",
   "execution_count": 10,
   "id": "d01cec91-a619-4bb3-9571-4a57427ca2dc",
   "metadata": {},
   "outputs": [],
   "source": [
    "year = []\n",
    "\n",
    "for y in json_date:\n",
    "    data = \"\"\n",
    "    if len(y) == 9:\n",
    "        #gg+mm\n",
    "        data = y.replace('\"', \"\")\n",
    "        \n",
    "        #print(\"1\")\n",
    "        #print(data)\n",
    "    elif len(data) < 9:\n",
    "        #aa\n",
    "        data = y.replace('\"', \"\")\n",
    "        \n",
    "        #pritn(\"2\")\n",
    "        #print(data)\n",
    "    else:\n",
    "        #a-m-g\n",
    "        data = y.replace('\"', \"\")\n",
    "    year.append(data.split(\"-\")[0])\n",
    "\n"
   ]
  },
  {
   "cell_type": "code",
   "execution_count": 11,
   "id": "e333ca02-512e-416f-b2db-8273ebdfcf82",
   "metadata": {},
   "outputs": [
    {
     "data": {
      "text/html": [
       "<div>\n",
       "<style scoped>\n",
       "    .dataframe tbody tr th:only-of-type {\n",
       "        vertical-align: middle;\n",
       "    }\n",
       "\n",
       "    .dataframe tbody tr th {\n",
       "        vertical-align: top;\n",
       "    }\n",
       "\n",
       "    .dataframe thead th {\n",
       "        text-align: right;\n",
       "    }\n",
       "</style>\n",
       "<table border=\"1\" class=\"dataframe\">\n",
       "  <thead>\n",
       "    <tr style=\"text-align: right;\">\n",
       "      <th></th>\n",
       "      <th>0</th>\n",
       "    </tr>\n",
       "  </thead>\n",
       "  <tbody>\n",
       "    <tr>\n",
       "      <th>0</th>\n",
       "      <td>1997</td>\n",
       "    </tr>\n",
       "    <tr>\n",
       "      <th>1</th>\n",
       "      <td>1997</td>\n",
       "    </tr>\n",
       "    <tr>\n",
       "      <th>2</th>\n",
       "      <td>1997</td>\n",
       "    </tr>\n",
       "    <tr>\n",
       "      <th>3</th>\n",
       "      <td>1997</td>\n",
       "    </tr>\n",
       "    <tr>\n",
       "      <th>4</th>\n",
       "      <td>1997</td>\n",
       "    </tr>\n",
       "  </tbody>\n",
       "</table>\n",
       "</div>"
      ],
      "text/plain": [
       "      0\n",
       "0  1997\n",
       "1  1997\n",
       "2  1997\n",
       "3  1997\n",
       "4  1997"
      ]
     },
     "execution_count": 11,
     "metadata": {},
     "output_type": "execute_result"
    }
   ],
   "source": [
    "df = pd.DataFrame(year)\n",
    "df.head()"
   ]
  },
  {
   "cell_type": "code",
   "execution_count": 12,
   "id": "a0154f95-f211-43cb-b6d3-fe5ae101eadd",
   "metadata": {},
   "outputs": [],
   "source": [
    "dfNum = pd.DataFrame({'count' : df.groupby( [0] ).size()}).reset_index()"
   ]
  },
  {
   "cell_type": "code",
   "execution_count": 24,
   "id": "a9a5314c-0abe-4a70-a017-8eb832e135a5",
   "metadata": {},
   "outputs": [
    {
     "data": {
      "text/html": [
       "<div>\n",
       "<style scoped>\n",
       "    .dataframe tbody tr th:only-of-type {\n",
       "        vertical-align: middle;\n",
       "    }\n",
       "\n",
       "    .dataframe tbody tr th {\n",
       "        vertical-align: top;\n",
       "    }\n",
       "\n",
       "    .dataframe thead th {\n",
       "        text-align: right;\n",
       "    }\n",
       "</style>\n",
       "<table border=\"1\" class=\"dataframe\">\n",
       "  <thead>\n",
       "    <tr style=\"text-align: right;\">\n",
       "      <th></th>\n",
       "      <th>0</th>\n",
       "      <th>count</th>\n",
       "    </tr>\n",
       "  </thead>\n",
       "  <tbody>\n",
       "    <tr>\n",
       "      <th>154</th>\n",
       "      <td>1973</td>\n",
       "      <td>2748</td>\n",
       "    </tr>\n",
       "    <tr>\n",
       "      <th>155</th>\n",
       "      <td>1974</td>\n",
       "      <td>3152</td>\n",
       "    </tr>\n",
       "    <tr>\n",
       "      <th>156</th>\n",
       "      <td>1975</td>\n",
       "      <td>3097</td>\n",
       "    </tr>\n",
       "    <tr>\n",
       "      <th>161</th>\n",
       "      <td>1980</td>\n",
       "      <td>2543</td>\n",
       "    </tr>\n",
       "  </tbody>\n",
       "</table>\n",
       "</div>"
      ],
      "text/plain": [
       "        0  count\n",
       "154  1973   2748\n",
       "155  1974   3152\n",
       "156  1975   3097\n",
       "161  1980   2543"
      ]
     },
     "execution_count": 24,
     "metadata": {},
     "output_type": "execute_result"
    }
   ],
   "source": [
    "dfNum.loc[dfNum['count'] > 2500]"
   ]
  },
  {
   "cell_type": "code",
   "execution_count": null,
   "id": "a7da45d7-90ff-42c5-97f5-1eb2b515c829",
   "metadata": {},
   "outputs": [],
   "source": []
  },
  {
   "cell_type": "code",
   "execution_count": null,
   "id": "6f2be5a1-c6a2-46cc-ae83-264c2a2348e3",
   "metadata": {},
   "outputs": [],
   "source": []
  }
 ],
 "metadata": {
  "kernelspec": {
   "display_name": "Python 3",
   "language": "python",
   "name": "python3"
  },
  "language_info": {
   "codemirror_mode": {
    "name": "ipython",
    "version": 3
   },
   "file_extension": ".py",
   "mimetype": "text/x-python",
   "name": "python",
   "nbconvert_exporter": "python",
   "pygments_lexer": "ipython3",
   "version": "3.8.8"
  }
 },
 "nbformat": 4,
 "nbformat_minor": 5
}
